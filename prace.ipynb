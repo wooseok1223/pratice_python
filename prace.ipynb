{
 "cells": [
  {
   "cell_type": "code",
   "execution_count": 19,
   "metadata": {},
   "outputs": [
    {
     "ename": "IndexError",
     "evalue": "list index out of range",
     "output_type": "error",
     "traceback": [
      "\u001b[1;31m---------------------------------------------------------------------------\u001b[0m",
      "\u001b[1;31mIndexError\u001b[0m                                Traceback (most recent call last)",
      "\u001b[1;32m<ipython-input-19-5aa0355560ff>\u001b[0m in \u001b[0;36m<module>\u001b[1;34m\u001b[0m\n\u001b[0;32m     23\u001b[0m \u001b[1;33m\u001b[0m\u001b[0m\n\u001b[0;32m     24\u001b[0m     \u001b[1;32mfor\u001b[0m \u001b[0mi\u001b[0m \u001b[1;32min\u001b[0m \u001b[0mrange\u001b[0m\u001b[1;33m(\u001b[0m\u001b[0mRANK\u001b[0m\u001b[1;33m)\u001b[0m\u001b[1;33m:\u001b[0m\u001b[1;33m\u001b[0m\u001b[1;33m\u001b[0m\u001b[0m\n\u001b[1;32m---> 25\u001b[1;33m         \u001b[0mprint\u001b[0m\u001b[1;33m(\u001b[0m\u001b[1;34m'%3d위: %s - %s'\u001b[0m\u001b[1;33m%\u001b[0m\u001b[1;33m(\u001b[0m\u001b[0mi\u001b[0m\u001b[1;33m+\u001b[0m\u001b[1;36m1\u001b[0m\u001b[1;33m,\u001b[0m \u001b[0mtitle\u001b[0m\u001b[1;33m[\u001b[0m\u001b[0mi\u001b[0m\u001b[1;33m]\u001b[0m\u001b[1;33m,\u001b[0m \u001b[0msong\u001b[0m\u001b[1;33m[\u001b[0m\u001b[0mi\u001b[0m\u001b[1;33m]\u001b[0m\u001b[1;33m)\u001b[0m\u001b[1;33m)\u001b[0m\u001b[1;33m\u001b[0m\u001b[1;33m\u001b[0m\u001b[0m\n\u001b[0m\u001b[0;32m     26\u001b[0m \u001b[1;33m\u001b[0m\u001b[0m\n",
      "\u001b[1;31mIndexError\u001b[0m: list index out of range"
     ]
    }
   ],
   "source": [
    "import requests\n",
    "from bs4 import BeautifulSoup\n",
    "\n",
    "if __name__ == \"__main__\":\n",
    "    RANK = 54\n",
    " \n",
    "    header = {'User-Agent': 'Mozilla/5.0 (Windows NT 6.3; Trident/7.0; rv:11.0)'}\n",
    "    req = requests.get('https://www.melon.com/chart/index.htm', headers = header)\n",
    "    html = req.text\n",
    "    parse = BeautifulSoup(html, 'html.parser')\n",
    " \n",
    "    titles = parse.find_all(\"div\", {\"class\": \"ellipsis rank01\"})\n",
    "    songs = parse.find_all(\"div\", {\"class\": \"ellipsis rank02\"}) \n",
    " \n",
    "    title = []\n",
    "    song = []\n",
    " \n",
    "    for t in titles:\n",
    "        title.append(t.find('a').text)\n",
    " \n",
    "    for s in songs:\n",
    "        song.append(s.find('span', {\"class\": \"checkEllipsis\"}).text)\n",
    " \n",
    "    for i in range(RANK):\n",
    "        print('%3d위: %s - %s'%(i+1, title[i], song[i]))\n",
    "        "
   ]
  },
  {
   "cell_type": "code",
   "execution_count": 4,
   "metadata": {},
   "outputs": [
    {
     "name": "stdout",
     "output_type": "stream",
     "text": [
      "1 어스\n",
      "2 돈\n",
      "3 악질경찰\n",
      "4 캡틴 마블\n",
      "5 우상\n",
      "6 장난스런 키스\n",
      "7 사바하\n",
      "8 덤보\n",
      "9 어벤져스: 엔드게임\n",
      "10 썬키스 패밀리\n",
      "11 이스케이프 룸\n",
      "12 콜레트\n",
      "13 샤잠!\n",
      "14 그린 북\n",
      "15 라스트 미션\n",
      "16 페이트 스테이 나이트 헤븐즈필 제2장 로스트 버터플라이\n",
      "17 겟 아웃\n",
      "18 극한직업\n",
      "19 더 길티\n",
      "20 양지의 그녀\n",
      "21 증인\n",
      "22 생일\n",
      "23 강변호텔\n",
      "24 타인은 지옥이다\n",
      "25 시베리아\n",
      "26 더 페이버릿: 여왕의 여자\n",
      "27 미성년\n",
      "28 아틱\n",
      "29 터미네이터 솔저\n",
      "30 알리타: 배틀 엔젤\n",
      "31 탱크: 무적의 T34\n",
      "32 자전차왕 엄복동\n",
      "33 헬보이\n",
      "34 아사코\n",
      "35 정글북: 마법 원정대\n",
      "36 가버나움\n",
      "37 더 와이프\n",
      "38 항거:유관순 이야기\n",
      "39 로망\n",
      "40 철벽선생\n",
      "41 침묵\n",
      "42 어벤져스: 인피니티 워\n",
      "43 선희와 슬기\n",
      "44 바이스\n",
      "45 악인전\n",
      "46 뺑반\n",
      "47 7년의 밤\n",
      "48 파이브 패신저스\n",
      "49 나의 작은 시인에게\n",
      "50 질투의 역사\n"
     ]
    }
   ],
   "source": [
    "import requests\n",
    "from bs4 import BeautifulSoup    #BeautifulSoup import\n",
    " \n",
    "response = requests.get('https://movie.naver.com/movie/sdb/rank/rmovie.nhn')\n",
    " \n",
    "html = response.text\n",
    "soup = BeautifulSoup(html, 'html.parser') #html.parser를 사용해서 soup에 넣겠다\n",
    "cnt = 1;\n",
    "for tag in soup.select('div[class=tit3]'):\n",
    "    print('{}' .format(cnt), tag.text.strip() )\n",
    "    cnt += 1\n",
    "    "
   ]
  },
  {
   "cell_type": "code",
   "execution_count": null,
   "metadata": {},
   "outputs": [],
   "source": []
  }
 ],
 "metadata": {
  "kernelspec": {
   "display_name": "Python 3",
   "language": "python",
   "name": "python3"
  },
  "language_info": {
   "codemirror_mode": {
    "name": "ipython",
    "version": 3
   },
   "file_extension": ".py",
   "mimetype": "text/x-python",
   "name": "python",
   "nbconvert_exporter": "python",
   "pygments_lexer": "ipython3",
   "version": "3.7.1"
  }
 },
 "nbformat": 4,
 "nbformat_minor": 2
}
