{
 "cells": [
  {
   "cell_type": "markdown",
   "metadata": {},
   "source": [
    "## 연산자(Operator)\n",
    "    \n",
    "    - \"( )\"를 활용하자.\n",
    "    - 연산자 모양만 보고 판단하지 말자\n",
    "    \n",
    "### 산술연산자(Arithmatic)\n",
    "    +, -, /, *, %, //,**\n",
    "    \n",
    "    \n",
    "### 비교연산자 \n",
    "    >, <, >=, <=, ==, !=\n",
    "    \n",
    "    \n",
    "### 논리연산자\n",
    "    and, or, not\n",
    "    \n",
    "    A B   A and B   A OR B  NOT(A,B)  A^B\n",
    "    ---------------------------------------\n",
    "    T T      T        T     F F        F\n",
    "    T F      F        T     F T        T   \n",
    "    F T      F        T     T F        T\n",
    "    F F      F        F     T T        F\n",
    "    \n",
    "### 대입(치환) 연산자\n",
    "    =, +=, -=, *=, /=, ...\n",
    "    \n",
    "\n",
    "====================================================================\n",
    "\n",
    "### 포함 여부 연산자\n",
    "    in, not in, \n",
    "    \n",
    "### 비트 연산자\n",
    "    &, |, ^ , ~, <<, >>\n"
   ]
  },
  {
   "cell_type": "code",
   "execution_count": 1,
   "metadata": {},
   "outputs": [
    {
     "name": "stdout",
     "output_type": "stream",
     "text": [
      "1\n",
      "[2, 3, 4]\n",
      "5\n"
     ]
    }
   ],
   "source": [
    "#대입 연산자\n",
    "a1, a2, a3 = [1,2,3]\n",
    "a1, *a2, a3 = [1,2,3,4,5]\n",
    "print(a1)\n",
    "print(a2)\n",
    "print(a3)"
   ]
  },
  {
   "cell_type": "code",
   "execution_count": 23,
   "metadata": {},
   "outputs": [
    {
     "name": "stdout",
     "output_type": "stream",
     "text": [
      "True\n",
      "7\n",
      "True\n",
      "True\n",
      "암호화된 값 : 35493334\n",
      "복호화된 값 : 648723\n"
     ]
    }
   ],
   "source": [
    "#비트 연산자\n",
    "a,b = 5, 7\n",
    "print(a>3 & b<4)\n",
    "print(a and b)\n",
    "print(a>3 & b<4)\n",
    "print(bool(\"hello\")), bool(10), bool(\"\"), bool([]), bool({})\n",
    "\n",
    "#xor(exclusive or) ^\n",
    "password = 648723\n",
    "key = 34894789\n",
    "encode = password ^ key\n",
    "print(\"암호화된 값 :\", encode)\n",
    "print(\"복호화된 값 :\", encode ^ key)"
   ]
  },
  {
   "cell_type": "code",
   "execution_count": 4,
   "metadata": {},
   "outputs": [
    {
     "name": "stdout",
     "output_type": "stream",
     "text": [
      "당신의 이름은 : t\n",
      "환영합니다 t님 즐거운 하루 되세요\n",
      "첫번째 : 3\n",
      "두번째 : 5\n",
      "결과:3,5\n",
      "3 + 5 = 8\n"
     ]
    }
   ],
   "source": [
    "#input\n",
    "\n",
    "name = input(\"당신의 이름은 : \")\n",
    "print (\"환영합니다 \" +name+\"님 \"+\"즐거운 하루 되세요\")\n",
    "\n",
    "a = input(\"첫번째 : \")\n",
    "b = input(\"두번째 : \")\n",
    "print(\"결과:{0},{1}\".format(a,b))\n",
    "num1 = int(a)\n",
    "num2 = int(b)\n",
    "print(\"%d + %d = %d\" %(num1,num2,num1+num2))"
   ]
  },
  {
   "cell_type": "code",
   "execution_count": null,
   "metadata": {},
   "outputs": [],
   "source": []
  }
 ],
 "metadata": {
  "kernelspec": {
   "display_name": "Python 3",
   "language": "python",
   "name": "python3"
  },
  "language_info": {
   "codemirror_mode": {
    "name": "ipython",
    "version": 3
   },
   "file_extension": ".py",
   "mimetype": "text/x-python",
   "name": "python",
   "nbconvert_exporter": "python",
   "pygments_lexer": "ipython3",
   "version": "3.7.1"
  }
 },
 "nbformat": 4,
 "nbformat_minor": 2
}
