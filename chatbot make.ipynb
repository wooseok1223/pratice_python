{
 "cells": [
  {
   "cell_type": "code",
   "execution_count": 10,
   "metadata": {},
   "outputs": [
    {
     "ename": "ImportError",
     "evalue": "cannot import name 'TelegramError' from 'telegram' (C:\\Users\\wooseok-pc\\Anaconda3\\lib\\site-packages\\telegram\\__init__.py)",
     "output_type": "error",
     "traceback": [
      "\u001b[1;31m---------------------------------------------------------------------------\u001b[0m",
      "\u001b[1;31mImportError\u001b[0m                               Traceback (most recent call last)",
      "\u001b[1;32m<ipython-input-10-440a9288f97c>\u001b[0m in \u001b[0;36m<module>\u001b[1;34m\u001b[0m\n\u001b[1;32m----> 1\u001b[1;33m \u001b[1;32mfrom\u001b[0m \u001b[0mtelegram\u001b[0m\u001b[1;33m.\u001b[0m\u001b[0mext\u001b[0m \u001b[1;32mimport\u001b[0m \u001b[0mUpdater\u001b[0m\u001b[1;33m,\u001b[0m \u001b[0mMessageHandler\u001b[0m\u001b[1;33m,\u001b[0m \u001b[0mFilters\u001b[0m\u001b[1;33m,\u001b[0m \u001b[0mCommandHandler\u001b[0m\u001b[1;33m,\u001b[0m \u001b[0mCallbackQueryHandler\u001b[0m  \u001b[1;31m# import modules\u001b[0m\u001b[1;33m\u001b[0m\u001b[1;33m\u001b[0m\u001b[0m\n\u001b[0m\u001b[0;32m      2\u001b[0m \u001b[1;32mfrom\u001b[0m \u001b[0mtelegram\u001b[0m \u001b[1;32mimport\u001b[0m \u001b[0mInlineKeyboardButton\u001b[0m\u001b[1;33m,\u001b[0m \u001b[0mInlineKeyboardMarkup\u001b[0m\u001b[1;33m\u001b[0m\u001b[1;33m\u001b[0m\u001b[0m\n\u001b[0;32m      3\u001b[0m \u001b[1;33m\u001b[0m\u001b[0m\n\u001b[0;32m      4\u001b[0m \u001b[0mmy_token\u001b[0m \u001b[1;33m=\u001b[0m \u001b[1;34m'670455360:AAGn90GketLHSzGXNWj3lT_zBFpKKdk6vhc'\u001b[0m\u001b[1;33m\u001b[0m\u001b[1;33m\u001b[0m\u001b[0m\n\u001b[0;32m      5\u001b[0m \u001b[0mbot\u001b[0m \u001b[1;33m=\u001b[0m \u001b[0mtelegram\u001b[0m\u001b[1;33m.\u001b[0m\u001b[0mBot\u001b[0m\u001b[1;33m(\u001b[0m\u001b[0mtoken\u001b[0m \u001b[1;33m=\u001b[0m \u001b[0mmy_token\u001b[0m\u001b[1;33m)\u001b[0m\u001b[1;33m\u001b[0m\u001b[1;33m\u001b[0m\u001b[0m\n",
      "\u001b[1;32m~\\Anaconda3\\lib\\site-packages\\telegram\\ext\\__init__.py\u001b[0m in \u001b[0;36m<module>\u001b[1;34m\u001b[0m\n\u001b[0;32m     19\u001b[0m \u001b[1;34m\"\"\"Extensions over the Telegram Bot API to facilitate bot making\"\"\"\u001b[0m\u001b[1;33m\u001b[0m\u001b[1;33m\u001b[0m\u001b[0m\n\u001b[0;32m     20\u001b[0m \u001b[1;33m\u001b[0m\u001b[0m\n\u001b[1;32m---> 21\u001b[1;33m \u001b[1;32mfrom\u001b[0m \u001b[1;33m.\u001b[0m\u001b[0mdispatcher\u001b[0m \u001b[1;32mimport\u001b[0m \u001b[0mDispatcher\u001b[0m\u001b[1;33m,\u001b[0m \u001b[0mDispatcherHandlerStop\u001b[0m\u001b[1;33m,\u001b[0m \u001b[0mrun_async\u001b[0m\u001b[1;33m\u001b[0m\u001b[1;33m\u001b[0m\u001b[0m\n\u001b[0m\u001b[0;32m     22\u001b[0m \u001b[1;32mfrom\u001b[0m \u001b[1;33m.\u001b[0m\u001b[0mjobqueue\u001b[0m \u001b[1;32mimport\u001b[0m \u001b[0mJobQueue\u001b[0m\u001b[1;33m,\u001b[0m \u001b[0mJob\u001b[0m\u001b[1;33m\u001b[0m\u001b[1;33m\u001b[0m\u001b[0m\n\u001b[0;32m     23\u001b[0m \u001b[1;32mfrom\u001b[0m \u001b[1;33m.\u001b[0m\u001b[0mupdater\u001b[0m \u001b[1;32mimport\u001b[0m \u001b[0mUpdater\u001b[0m\u001b[1;33m\u001b[0m\u001b[1;33m\u001b[0m\u001b[0m\n",
      "\u001b[1;32m~\\Anaconda3\\lib\\site-packages\\telegram\\ext\\dispatcher.py\u001b[0m in \u001b[0;36m<module>\u001b[1;34m\u001b[0m\n\u001b[0;32m     31\u001b[0m \u001b[1;32mfrom\u001b[0m \u001b[0mfuture\u001b[0m\u001b[1;33m.\u001b[0m\u001b[0mbuiltins\u001b[0m \u001b[1;32mimport\u001b[0m \u001b[0mrange\u001b[0m\u001b[1;33m\u001b[0m\u001b[1;33m\u001b[0m\u001b[0m\n\u001b[0;32m     32\u001b[0m \u001b[1;33m\u001b[0m\u001b[0m\n\u001b[1;32m---> 33\u001b[1;33m \u001b[1;32mfrom\u001b[0m \u001b[0mtelegram\u001b[0m \u001b[1;32mimport\u001b[0m \u001b[0mTelegramError\u001b[0m\u001b[1;33m\u001b[0m\u001b[1;33m\u001b[0m\u001b[0m\n\u001b[0m\u001b[0;32m     34\u001b[0m \u001b[1;32mfrom\u001b[0m \u001b[0mtelegram\u001b[0m\u001b[1;33m.\u001b[0m\u001b[0mext\u001b[0m\u001b[1;33m.\u001b[0m\u001b[0mhandler\u001b[0m \u001b[1;32mimport\u001b[0m \u001b[0mHandler\u001b[0m\u001b[1;33m\u001b[0m\u001b[1;33m\u001b[0m\u001b[0m\n\u001b[0;32m     35\u001b[0m \u001b[1;32mfrom\u001b[0m \u001b[0mtelegram\u001b[0m\u001b[1;33m.\u001b[0m\u001b[0mutils\u001b[0m\u001b[1;33m.\u001b[0m\u001b[0mpromise\u001b[0m \u001b[1;32mimport\u001b[0m \u001b[0mPromise\u001b[0m\u001b[1;33m\u001b[0m\u001b[1;33m\u001b[0m\u001b[0m\n",
      "\u001b[1;31mImportError\u001b[0m: cannot import name 'TelegramError' from 'telegram' (C:\\Users\\wooseok-pc\\Anaconda3\\lib\\site-packages\\telegram\\__init__.py)"
     ]
    }
   ],
   "source": [
    "from telegram.ext import Updater, MessageHandler, Filters, CommandHandler, CallbackQueryHandler  # import modules\n",
    "from telegram import InlineKeyboardButton, InlineKeyboardMarkup\n",
    "\n",
    "my_token = '670455360:AAGn90GketLHSzGXNWj3lT_zBFpKKdk6vhc'\n",
    "bot = telegram.Bot(token = my_token)\n",
    "\n",
    "#메세지 정보를 업데이트\n",
    "def get_message(bot, update) :\n",
    "    update.message.reply_text(update.message.text)\n",
    "\n",
    "def help_command(bot, update) :\n",
    "    update.message.reply_text(\"기본명령어는 :\")\n",
    "    update.message.reply_text(\"/start\")\n",
    "    update.message.reply_text(\"/help\")\n",
    "    update.message.reply_text(\"/get\")\n",
    "    \n",
    "def start_command(bot, update) :\n",
    "    update.message.reply_text(\"환영합니다 어서오세요.\")\n",
    "    \n",
    "def build_menu(buttons, n_cols, header_buttons=None, footer_buttons=None):\n",
    "    menu = [buttons[i:i + n_cols] for i in range(0, len(buttons), n_cols)]\n",
    "    if header_buttons:\n",
    "        menu.insert(0, header_buttons)\n",
    "    if footer_buttons:\n",
    "        menu.append(footer_buttons)\n",
    "    return menu\n",
    "\n",
    "def get_command(bot, update):\n",
    "    show_list = []\n",
    "    show_list.append(InlineKeyboardButton(\"yes\", callback_data=\"yes\")) \n",
    "    show_list.append(InlineKeyboardButton(\"no\", callback_data=\"no\"))\n",
    "    show_list.append(InlineKeyboardButton(\"cancel\", callback_data=\"cancel\")) \n",
    "    show_markup = InlineKeyboardMarkup(build_menu(show_list, len(show_list) - 1))\n",
    "    update.message.reply_text(\"미세먼지에 대하여 알려드릴까요?\", reply_markup=show_markup)\n",
    "\n",
    "def callback_get(bot, update):\n",
    "    bot.edit_message_text(text=\"{}이(가) 선택되었습니다\".format(update.callback_query.data),\n",
    "                              chat_id=update.callback_query.message.chat_id, message_id=update.callback_query.message.message_id)    \n",
    "\n",
    "updater = Updater(my_token)\n",
    "    \n",
    "get_handler = CommandHandler('get', get_command)\n",
    "updater.dispatcher.add_handler(get_handler)\n",
    "updater.dispatcher.add_handler(CallbackQueryHandler(callback_get))\n",
    "    \n",
    "message_handler = MessageHandler(Filters.text, get_message)\n",
    "updater.dispatcher.add_handler(message_handler)\n",
    "\n",
    "help_handler = CommandHandler('help', help_command)\n",
    "updater.dispatcher.add_handler(help_handler)\n",
    "\n",
    "start_handler = CommandHandler('start', start_command)\n",
    "updater.dispatcher.add_handler(start_handler)\n",
    "\n",
    "updater.start_polling(timeout=3, clean=True)\n",
    "\n",
    "updater.idle()"
   ]
  },
  {
   "cell_type": "code",
   "execution_count": 9,
   "metadata": {},
   "outputs": [
    {
     "name": "stdout",
     "output_type": "stream",
     "text": [
      "Requirement already satisfied: telegram in c:\\users\\wooseok-pc\\anaconda3\\lib\\site-packages (0.0.1)\n"
     ]
    }
   ],
   "source": [
    "!pip install telegram"
   ]
  },
  {
   "cell_type": "code",
   "execution_count": null,
   "metadata": {},
   "outputs": [],
   "source": []
  }
 ],
 "metadata": {
  "kernelspec": {
   "display_name": "Python 3",
   "language": "python",
   "name": "python3"
  },
  "language_info": {
   "codemirror_mode": {
    "name": "ipython",
    "version": 3
   },
   "file_extension": ".py",
   "mimetype": "text/x-python",
   "name": "python",
   "nbconvert_exporter": "python",
   "pygments_lexer": "ipython3",
   "version": "3.7.1"
  }
 },
 "nbformat": 4,
 "nbformat_minor": 2
}
