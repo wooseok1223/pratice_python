{
 "cells": [
  {
   "cell_type": "markdown",
   "metadata": {},
   "source": [
    "## 1. Class의 특징\n",
    "    \n",
    "    1) 묶음\n",
    "        - 변수(맴버변수, 필드, 속성, 인스턴스 변수)\n",
    "        - 함수(매서드, 맴버함수)\n",
    "        \n",
    "    2) 설계도\n",
    "        - 객체(인스턴스) : 실제 작업 가능한 메모리 공간\n",
    "        - 인스턴스 : 클래스를 사용할 수 있는 실제 메모리 공간\n",
    "        \n",
    "## 2. 작성방법\n",
    "       \n",
    "     class 이름 : \n",
    "        변수\n",
    "        함수\n",
    "        \n",
    "## 3. 객체의 특징\n",
    "\n",
    "        1. 상속성(Inheritance)\n",
    "        2. 다형성(polymorphism)\n",
    "        3. 캡슐화(Encapsulation)\n",
    "            = 추상화 - 편의성\n",
    "                    - 보안성\n",
    "                    \n",
    "## 4. 사용자 정의 자료형\n",
    "\n",
    "\n",
    "## 5. 표준화\n",
    "\n",
    "\n",
    "# 문법\n",
    "    \n",
    "### 1.static\n",
    "\n",
    "### 2.self\n",
    "\n",
    "      1) 현재 사용중인 객체의 주소를 저장하고 있는 참조변수\n",
    "      2) read only\n",
    "\n",
    "### 3. 생성자와 소멸자(생성자 : __init__,  소멸자 : __del__)\n",
    "    \n",
    "      1) 메서드 \n",
    "      2) 객체를 생성하는 용도\n",
    "      3) 객체를 처음 만들때 호출되고 단 한번만 호출됨.\n",
    "      4) 초기화 용도\n",
    "      5) 소멸자는 객체가 소멸될 때 호출되는 메서드(callback)\n",
    "      \n",
    "### 4. _ , __\n",
    "       \n",
    "      1) 기본 인터프리터에서 사용\n",
    "      2) 값을 무시\n",
    "      3) 접근권한(private)\n",
    "\n",
    "### 5. 정적 메서드, 클래스 매서드\n",
    "    \n",
    "### 6. 상속\n",
    "      \n",
    "      1) Overriding(재정의), Overloading(중복정의) #파이썬에서는 오버로딩 지원x\n",
    "      2) super()\n",
    "      3) overriding을 이용한 다형성(표준화)\n",
    "      4) 다중 상속                                                                                     \n",
    "      5) 추상 (abstract) 클래스\n",
    "          #추상메서드 - 반드시 오버라이딩을 해야한다.\n",
    "      6) object\n",
    "\n",
    "# 클래스의 관계\n",
    "\n",
    "### is a : 상속\n",
    "\n",
    "    특정 클래스 객체가 다른 클래스 객체에게 자신의 멤버를 물려주는 상속 관계\n",
    "    부모 자식 관계\n",
    "    강한 결합 관계\n",
    "    \n",
    "### has a : 포함\n",
    "    특정 클래스 내에서 해당 클래스의 멤버처럼 다른 클래스 객체를 포함하고 있는 경우 \n",
    "    약한 결합 관계\n",
    "    \n",
    "    1) Aggregation : 약한 관계\n",
    "    2) Composition : 강한 관계\n",
    "    \n",
    "### UML\n",
    "    \n",
    "    \n",
    "### 객체지향 설계원칙(SOLID)"
   ]
  },
  {
   "cell_type": "code",
   "execution_count": 9,
   "metadata": {},
   "outputs": [
    {
     "name": "stdout",
     "output_type": "stream",
     "text": [
      "10\n",
      "20\n",
      "30\n"
     ]
    }
   ],
   "source": [
    "a = 10\n",
    "class test:\n",
    "    b = 20\n",
    "print(a)\n",
    "num = test().b\n",
    "print(num)\n",
    "num = 30 \n",
    "print(num)"
   ]
  },
  {
   "cell_type": "code",
   "execution_count": 12,
   "metadata": {},
   "outputs": [
    {
     "name": "stdout",
     "output_type": "stream",
     "text": [
      "19 29\n"
     ]
    }
   ],
   "source": [
    "t1 = test().b\n",
    "t2 = test().b\n",
    "\n",
    "t1 = 19\n",
    "t2 = 29\n",
    "\n",
    "print(t1,t2)\n"
   ]
  },
  {
   "cell_type": "code",
   "execution_count": 38,
   "metadata": {},
   "outputs": [
    {
     "name": "stdout",
     "output_type": "stream",
     "text": [
      "국적 : korean\n",
      "이름 : 홍길동\n",
      "나이 : 30\n",
      "신장 : 172.5\n",
      "self :  93524656\n",
      "<class '__main__.Person'>\n"
     ]
    }
   ],
   "source": [
    "class Person:\n",
    "    nation = '한국'\n",
    "    name = str\n",
    "    age = int\n",
    "    height = float\n",
    "    def info(self):\n",
    "        print(\"국적 :\",self.nation)\n",
    "        print(\"이름 :\",self.name)\n",
    "        print(\"나이 :\",self.age)\n",
    "        print(\"신장 :\",self.height)\n",
    "        print('self : ',id(self))\n",
    "    \n",
    "hong = Person()\n",
    "hong.nation = \"korean\"\n",
    "hong.name = '홍길동'\n",
    "hong.age = 30\n",
    "hong.height = 172.5\n",
    "hong.info()\n",
    "print(type(hong))\n",
    "\n"
   ]
  },
  {
   "cell_type": "code",
   "execution_count": 54,
   "metadata": {
    "scrolled": false
   },
   "outputs": [
    {
     "name": "stdout",
     "output_type": "stream",
     "text": [
      "국적 : 대한민국\n",
      "이름 : 홍길동\n",
      "나이 : 30\n",
      "신장 : 172.5\n",
      "self :  93620880\n",
      "p1의 주소 :  93620880\n",
      "국적 : 대한민국\n",
      "이름 : 임꺽정\n",
      "나이 : 30\n",
      "신장 : 172.5\n",
      "self :  93621216\n",
      "국적 : 대한민국\n",
      "이름 : 신돌석\n",
      "나이 : 30\n",
      "신장 : 172.5\n",
      "self :  93620824\n",
      "==============================\n",
      "국적 : 대한민국\n",
      "이름 : 홍길동\n",
      "나이 : 30\n",
      "신장 : 172.5\n",
      "self :  93620880\n",
      "국적 : 대한민국\n",
      "이름 : 임꺽정\n",
      "나이 : 30\n",
      "신장 : 172.5\n",
      "self :  93621216\n",
      "국적 : 대한민국\n",
      "이름 : 신돌석\n",
      "나이 : 30\n",
      "신장 : 172.5\n",
      "self :  93620824\n"
     ]
    }
   ],
   "source": [
    "p1 = Person()\n",
    "p1.name = '홍길동'\n",
    "p1.age = 30\n",
    "p1.height = 172.5\n",
    "p1.info()\n",
    "print('p1의 주소 : ',id(p1))\n",
    "\n",
    "p2 = Person()\n",
    "p2.name = '임꺽정'\n",
    "p2.age = 30\n",
    "p2.height = 172.5\n",
    "p2.info()\n",
    "\n",
    "p3 = Person()\n",
    "p3.name = '신돌석'\n",
    "p3.age = 30\n",
    "p3.height = 172.5\n",
    "p3.info()\n",
    "\n",
    "print(\"=\" * 30)\n",
    "# static 변수\n",
    "Person.nation = '대한민국' #static 변수 - class로 접근\n",
    "p1.info()\n",
    "p2.info()\n",
    "p3.info()"
   ]
  },
  {
   "cell_type": "code",
   "execution_count": 78,
   "metadata": {},
   "outputs": [
    {
     "name": "stdout",
     "output_type": "stream",
     "text": [
      "생성자 호출 None\n",
      "a =  50\n",
      "생성자 호출 100\n",
      "a =  50\n",
      "True\n",
      "False\n"
     ]
    }
   ],
   "source": [
    "#생성자\n",
    "class TestClass:\n",
    "    a = 10\n",
    "    \n",
    "    def  __init__(self,arg1 = None):\n",
    "        print(\"생성자 호출\",arg1)\n",
    "        self.a = 50\n",
    "        print('a = ',self.a)\n",
    "class TestClass2:\n",
    "    pass\n",
    "\n",
    "t1 = TestClass()\n",
    "t2 = TestClass(100)\n",
    "t3 = TestClass2()\n",
    "\n",
    "print(isinstance(t1, TestClass))\n",
    "print(isinstance(t3, TestClass))\n"
   ]
  },
  {
   "cell_type": "code",
   "execution_count": 97,
   "metadata": {},
   "outputs": [
    {
     "name": "stdout",
     "output_type": "stream",
     "text": [
      "이름 : 홍길동\n",
      "나이 : 30\n",
      "봉급 : 1000000\n"
     ]
    }
   ],
   "source": [
    "class InitTest:\n",
    "    name = str\n",
    "    age = int\n",
    "    salary = float\n",
    "    \n",
    "    def __init__(self,name,age,sal):\n",
    "        self.name = name \n",
    "        self.age = age\n",
    "        self.sal = sal\n",
    "    def showMsg(self):\n",
    "        print('이름 :',self.name)\n",
    "        print('나이 :',self.age)\n",
    "        print('봉급 :',self.sal)\n",
    "\n",
    "\n",
    "obj1 = InitTest('홍길동', 30,1000000)\n",
    "obj1.showMsg()"
   ]
  },
  {
   "cell_type": "code",
   "execution_count": 44,
   "metadata": {},
   "outputs": [
    {
     "ename": "TypeError",
     "evalue": "unsupported operand type(s) for +=: 'type' and 'int'",
     "output_type": "error",
     "traceback": [
      "\u001b[1;31m---------------------------------------------------------------------------\u001b[0m",
      "\u001b[1;31mTypeError\u001b[0m                                 Traceback (most recent call last)",
      "\u001b[1;32m<ipython-input-44-c91399ed0703>\u001b[0m in \u001b[0;36m<module>\u001b[1;34m\u001b[0m\n\u001b[0;32m     38\u001b[0m         \u001b[0mself\u001b[0m\u001b[1;33m.\u001b[0m\u001b[0mhobby\u001b[0m\u001b[1;33m.\u001b[0m\u001b[0mappend\u001b[0m\u001b[1;33m(\u001b[0m\u001b[0mhobby\u001b[0m\u001b[1;33m)\u001b[0m\u001b[1;33m\u001b[0m\u001b[1;33m\u001b[0m\u001b[0m\n\u001b[0;32m     39\u001b[0m \u001b[1;33m\u001b[0m\u001b[0m\n\u001b[1;32m---> 40\u001b[1;33m \u001b[0me1\u001b[0m \u001b[1;33m=\u001b[0m \u001b[0mEmployer\u001b[0m\u001b[1;33m(\u001b[0m\u001b[1;36m1111\u001b[0m\u001b[1;33m,\u001b[0m\u001b[1;34m'홍길동'\u001b[0m\u001b[1;33m,\u001b[0m\u001b[1;36m1000000\u001b[0m\u001b[1;33m,\u001b[0m\u001b[1;33m[\u001b[0m\u001b[1;34m'여행'\u001b[0m\u001b[1;33m,\u001b[0m\u001b[1;34m'낚시'\u001b[0m\u001b[1;33m,\u001b[0m\u001b[1;34m'운동'\u001b[0m\u001b[1;33m]\u001b[0m\u001b[1;33m)\u001b[0m\u001b[1;33m\u001b[0m\u001b[1;33m\u001b[0m\u001b[0m\n\u001b[0m\u001b[0;32m     41\u001b[0m \u001b[0me2\u001b[0m \u001b[1;33m=\u001b[0m \u001b[0mEmployer\u001b[0m\u001b[1;33m(\u001b[0m\u001b[1;36m1112\u001b[0m\u001b[1;33m,\u001b[0m\u001b[1;34m'임꺽정'\u001b[0m\u001b[1;33m,\u001b[0m\u001b[1;36m2000000\u001b[0m\u001b[1;33m,\u001b[0m\u001b[1;33m[\u001b[0m\u001b[1;34m'여행'\u001b[0m\u001b[1;33m,\u001b[0m\u001b[1;34m'자전거'\u001b[0m\u001b[1;33m,\u001b[0m\u001b[1;34m'운동'\u001b[0m\u001b[1;33m]\u001b[0m\u001b[1;33m)\u001b[0m\u001b[1;33m\u001b[0m\u001b[1;33m\u001b[0m\u001b[0m\n\u001b[0;32m     42\u001b[0m \u001b[0me3\u001b[0m \u001b[1;33m=\u001b[0m \u001b[0mEmployer\u001b[0m\u001b[1;33m(\u001b[0m\u001b[1;36m1113\u001b[0m\u001b[1;33m,\u001b[0m\u001b[1;34m'신돌석'\u001b[0m\u001b[1;33m,\u001b[0m\u001b[1;36m3000000\u001b[0m\u001b[1;33m,\u001b[0m\u001b[1;33m[\u001b[0m\u001b[1;34m'독서'\u001b[0m\u001b[1;33m,\u001b[0m\u001b[1;34m'낚시'\u001b[0m\u001b[1;33m,\u001b[0m\u001b[1;34m'수영'\u001b[0m\u001b[1;33m]\u001b[0m\u001b[1;33m)\u001b[0m\u001b[1;33m\u001b[0m\u001b[1;33m\u001b[0m\u001b[0m\n",
      "\u001b[1;32m<ipython-input-44-c91399ed0703>\u001b[0m in \u001b[0;36m__init__\u001b[1;34m(self, num, name, salary, hobby)\u001b[0m\n\u001b[0;32m     17\u001b[0m         \u001b[0mself\u001b[0m\u001b[1;33m.\u001b[0m\u001b[0msalary\u001b[0m \u001b[1;33m=\u001b[0m \u001b[0msalary\u001b[0m\u001b[1;33m\u001b[0m\u001b[1;33m\u001b[0m\u001b[0m\n\u001b[0;32m     18\u001b[0m         \u001b[0mself\u001b[0m\u001b[1;33m.\u001b[0m\u001b[0mhobby\u001b[0m \u001b[1;33m=\u001b[0m \u001b[0mhobby\u001b[0m\u001b[1;33m\u001b[0m\u001b[1;33m\u001b[0m\u001b[0m\n\u001b[1;32m---> 19\u001b[1;33m         \u001b[0mEmployer\u001b[0m\u001b[1;33m.\u001b[0m\u001b[0mcnt\u001b[0m \u001b[1;33m+=\u001b[0m \u001b[1;36m1\u001b[0m\u001b[1;33m\u001b[0m\u001b[1;33m\u001b[0m\u001b[0m\n\u001b[0m\u001b[0;32m     20\u001b[0m     \u001b[1;32mdef\u001b[0m \u001b[0mdisplay\u001b[0m\u001b[1;33m(\u001b[0m\u001b[0mself\u001b[0m\u001b[1;33m)\u001b[0m\u001b[1;33m:\u001b[0m\u001b[1;33m\u001b[0m\u001b[1;33m\u001b[0m\u001b[0m\n\u001b[0;32m     21\u001b[0m         \u001b[0mprint\u001b[0m\u001b[1;33m(\u001b[0m\u001b[1;34m'사번 :'\u001b[0m \u001b[1;33m,\u001b[0m\u001b[0mself\u001b[0m\u001b[1;33m.\u001b[0m\u001b[0mnum\u001b[0m\u001b[1;33m)\u001b[0m\u001b[1;33m\u001b[0m\u001b[1;33m\u001b[0m\u001b[0m\n",
      "\u001b[1;31mTypeError\u001b[0m: unsupported operand type(s) for +=: 'type' and 'int'"
     ]
    }
   ],
   "source": [
    "'''\n",
    "사번 : 1111\n",
    "이름 : 홍길동\n",
    "급여 : 10000000\n",
    "취미 : 여행 낚시 운동\n",
    "'''\n",
    "class Employer:\n",
    "    num = int\n",
    "    name = str\n",
    "    salary = float\n",
    "    hobby = int\n",
    "    cnt = int\n",
    "    \n",
    "    def __init__(self,num,name,salary,hobby):\n",
    "        self.num = num\n",
    "        self.name = name\n",
    "        self.salary = salary\n",
    "        self.hobby = hobby\n",
    "        Employer.cnt += 1\n",
    "    def display(self):\n",
    "        print('사번 :' ,self.num)\n",
    "        print('이름 :' ,self.name)\n",
    "        print('급여 :' ,self.salary)\n",
    "        print('취미 :' ,end = \"\")\n",
    "        for i in range(len(self.hobby)):\n",
    "            if(i < len(self.hobby)-1):\n",
    "                print(self.hobby[i],end = \",\")\n",
    "            else:\n",
    "                print(self.hobby[i],end = \"\\n\")\n",
    "                \n",
    "    def getCount():\n",
    "        return Employer.cnt\n",
    "    \n",
    "    def setSalary(self,salary):\n",
    "        self.salary = salary\n",
    "    \n",
    "    def appendHobby(self,hobby):\n",
    "        self.hobby.append(hobby)\n",
    "            \n",
    "e1 = Employer(1111,'홍길동',1000000,['여행','낚시','운동'])\n",
    "e2 = Employer(1112,'임꺽정',2000000,['여행','자전거','운동'])\n",
    "e3 = Employer(1113,'신돌석',3000000,['독서','낚시','수영'])\n",
    "e1.display()\n",
    "total = Employer.getCount()\n",
    "e3.appendHobby(['피아노','드론'])\n",
    "e3.display()\n",
    "print(\"총인원수 : \",total)\n",
    "e3.setSalary(250000)\n",
    "'''\n",
    "사번 : 1112\n",
    "이름 : 신돌석\n",
    "급여 : 250000\n",
    "취미 : 독서 낚시 수영 피아노 드론\n",
    "'''\n",
    "                \n",
    "                                                        "
   ]
  },
  {
   "cell_type": "code",
   "execution_count": 141,
   "metadata": {},
   "outputs": [
    {
     "name": "stdout",
     "output_type": "stream",
     "text": [
      "10\n",
      "10\n"
     ]
    }
   ],
   "source": [
    "class TempClass:\n",
    "    a = 10\n",
    "    \n",
    "    def display(self):\n",
    "        print(self.a)\n",
    "        \n",
    "obj1 = TempClass()\n",
    "obj1.display()\n",
    "\n",
    "obj2 = TempClass()\n",
    "obj2.display()"
   ]
  },
  {
   "cell_type": "code",
   "execution_count": 45,
   "metadata": {},
   "outputs": [
    {
     "name": "stdout",
     "output_type": "stream",
     "text": [
      "1 3\n",
      "1 5\n",
      "0\n",
      "1\n",
      "2\n",
      "3\n"
     ]
    }
   ],
   "source": [
    "a,b,c = (1,2,3) #unpacking\n",
    "\n",
    "print(a,c)\n",
    "\n",
    "a,*_,c = (1,2,3,4,5)\n",
    "print(a,c)\n",
    "\n",
    "for a,_ in enumerate(['가','나','다','라']):\n",
    "    print(a)"
   ]
  },
  {
   "cell_type": "code",
   "execution_count": 25,
   "metadata": {},
   "outputs": [
    {
     "name": "stdout",
     "output_type": "stream",
     "text": [
      "안녕하세요\n",
      "first입니다. 홍길동입니다.\n",
      "['_PrivateTest__second', '_PrivateTest__str2', '__class__', '__delattr__', '__dict__', '__dir__', '__doc__', '__eq__', '__format__', '__ge__', '__getattribute__', '__gt__', '__hash__', '__init__', '__init_subclass__', '__le__', '__lt__', '__module__', '__ne__', '__new__', '__reduce__', '__reduce_ex__', '__repr__', '__setattr__', '__sizeof__', '__str__', '__subclasshook__', '__weakref__', 'first', 'str1']\n",
      "홍길동입니다.\n",
      "second입니다.\n"
     ]
    }
   ],
   "source": [
    "class PrivateTest:\n",
    "    str1 = \"안녕하세요\"\n",
    "    __str2 = \"홍길동입니다.\"\n",
    "    def first(self):\n",
    "        print(\"first입니다.\",self.__str2)\n",
    "    def __second(self):\n",
    "        print(\"second입니다.\")\n",
    "        \n",
    "obj1 = PrivateTest()\n",
    "print(obj1.str1)\n",
    "# print(obj1.str2)\n",
    "obj1.first()\n",
    "# obj1.__second()\n",
    "print(dir(obj1))\n",
    "\n",
    "print(obj1._PrivateTest__str2)\n",
    "obj1._PrivateTest__second()"
   ]
  },
  {
   "cell_type": "code",
   "execution_count": 13,
   "metadata": {},
   "outputs": [
    {
     "name": "stdout",
     "output_type": "stream",
     "text": [
      "선택 :1\n",
      "두 수 입력 :3,4\n"
     ]
    },
    {
     "ename": "AttributeError",
     "evalue": "'b' object has no attribute 'showMsg'",
     "output_type": "error",
     "traceback": [
      "\u001b[1;31m---------------------------------------------------------------------------\u001b[0m",
      "\u001b[1;31mAttributeError\u001b[0m                            Traceback (most recent call last)",
      "\u001b[1;32m<ipython-input-13-379679080096>\u001b[0m in \u001b[0;36m<module>\u001b[1;34m\u001b[0m\n\u001b[0;32m     46\u001b[0m \u001b[0mp1\u001b[0m \u001b[1;33m=\u001b[0m \u001b[0ma\u001b[0m\u001b[1;33m(\u001b[0m\u001b[1;33m)\u001b[0m\u001b[1;33m\u001b[0m\u001b[1;33m\u001b[0m\u001b[0m\n\u001b[0;32m     47\u001b[0m \u001b[0mp1\u001b[0m \u001b[1;33m=\u001b[0m \u001b[0mb\u001b[0m\u001b[1;33m(\u001b[0m\u001b[1;33m)\u001b[0m\u001b[1;33m\u001b[0m\u001b[1;33m\u001b[0m\u001b[0m\n\u001b[1;32m---> 48\u001b[1;33m \u001b[0mp1\u001b[0m\u001b[1;33m.\u001b[0m\u001b[0mshowMsg\u001b[0m\u001b[1;33m(\u001b[0m\u001b[1;33m)\u001b[0m\u001b[1;33m\u001b[0m\u001b[1;33m\u001b[0m\u001b[0m\n\u001b[0m\u001b[0;32m     49\u001b[0m \u001b[0mp1\u001b[0m \u001b[1;33m=\u001b[0m \u001b[0mb\u001b[0m\u001b[1;33m.\u001b[0m\u001b[0mchoice\u001b[0m\u001b[1;33m\u001b[0m\u001b[1;33m\u001b[0m\u001b[0m\n\u001b[0;32m     50\u001b[0m \u001b[1;33m\u001b[0m\u001b[0m\n",
      "\u001b[1;31mAttributeError\u001b[0m: 'b' object has no attribute 'showMsg'"
     ]
    }
   ],
   "source": [
    "'''\n",
    "class name : Calculator\n",
    "method : sum,mul,div,diff\n",
    "---------------------------------\n",
    "1.덧셈\n",
    "2.뺄셈\n",
    "3.곱셈\n",
    "4.나눗셈\n",
    "5.종료\n",
    "선택 : 1(엔터)\n",
    "두 수 입력 : 2,3\n",
    "결과 : 5 \n",
    "'''\n",
    "\n",
    "class a:\n",
    "    def showMsg(self):\n",
    "        print('1.덧셈')\n",
    "        print('2.뺄셈')\n",
    "        print('3.곱셈')\n",
    "        print('4.나눗셈')\n",
    "        print('5.종료')\n",
    "    def choiceMsg(self):\n",
    "        t1 = int(num1)+int(num2)\n",
    "        t2 = int(num1)-int(num2)\n",
    "        t3 = int(num1)*int(num2)\n",
    "        t4 = int(num1)/int(num2)\n",
    "        \n",
    "        if(a == 1):\n",
    "            print(\"결과 : %d\"%t1)\n",
    "        elif(a == 2):\n",
    "            print(\"결과 : %d\"%t2)\n",
    "        elif(a == 3):\n",
    "            print(\"결과 : %d\"%t3)\n",
    "        elif(a == 4):\n",
    "            print(\"결과 : %d\"%t4)\n",
    "        elif(a == 5):\n",
    "            return\n",
    "class b:\n",
    "    a = int(input('선택 :'))\n",
    "    num1,num2 = str(input('두 수 입력 :')).split(',')  \n",
    "    def choice(self):\n",
    "        a.self = a\n",
    "        num1.self = num1\n",
    "        num2.self = num2\n",
    "    \n",
    "p1 = a()\n",
    "p1 = b()\n",
    "p1.showMsg()\n",
    "p1 = b()\n",
    "p1.choice()\n",
    "p1.choiceMsg()"
   ]
  },
  {
   "cell_type": "code",
   "execution_count": 31,
   "metadata": {},
   "outputs": [
    {
     "name": "stdout",
     "output_type": "stream",
     "text": [
      "True\n",
      "2\n"
     ]
    }
   ],
   "source": [
    "class Rectangle:\n",
    "    cnt = 0\n",
    "    def __init__(self,width,height):\n",
    "        self.width = width\n",
    "        self.height = height\n",
    "        Rectangle.cnt += 1\n",
    "    def calcArea(self):\n",
    "        area = self.width * self.height\n",
    "        return area\n",
    "    @staticmethod #장식자(decorator)\n",
    "    def isSquare(width,height):\n",
    "        return width == height\n",
    "    @classmethod\n",
    "    def printCount(cls):\n",
    "        print(cls.cnt)\n",
    "        \n",
    "square = Rectangle.isSquare(10,10)\n",
    "print(square)\n",
    "r1 = Rectangle(5,5)\n",
    "r2 = Rectangle(2,5)\n",
    "r1.printCount()"
   ]
  },
  {
   "cell_type": "code",
   "execution_count": 43,
   "metadata": {},
   "outputs": [
    {
     "name": "stdout",
     "output_type": "stream",
     "text": [
      "움직이는 동물\n",
      "멍멍~~\n",
      "움직이는 동물\n",
      "현재 속도는 30\n",
      "True\n",
      "True\n",
      "False\n"
     ]
    }
   ],
   "source": [
    "class Animal:\n",
    "    def move(self):\n",
    "        print(\"움직이는 동물\")\n",
    "        \n",
    "class Dog(Animal):\n",
    "    def bark(self):\n",
    "        print(\"멍멍~~\")\n",
    "\n",
    "class Horse(Animal):\n",
    "    def speed(self,val):\n",
    "        print(\"현재 속도는 \" + val)\n",
    "        \n",
    "D1 = Dog()\n",
    "D1.move()\n",
    "D1.bark()\n",
    "D2 = Horse()\n",
    "D2.move()\n",
    "D2.speed('30')\n",
    "\n",
    "print(isinstance(D1,Dog))\n",
    "print(isinstance(D1,Animal))\n",
    "print(isinstance(D1,Horse))"
   ]
  },
  {
   "cell_type": "code",
   "execution_count": 64,
   "metadata": {},
   "outputs": [
    {
     "name": "stdout",
     "output_type": "stream",
     "text": [
      "30\n",
      "600\n",
      "20\n",
      "30\n",
      "-10\n",
      "200\n",
      "0.5\n",
      "100000000000000000000\n",
      "0으로 나눌수 없습니다\n",
      "None\n"
     ]
    }
   ],
   "source": [
    "class Calculator:\n",
    "    def __init__(self,first=None,second = None):\n",
    "        self.first = first\n",
    "        self.second = second\n",
    "    def setData(self, first=None,second = None):\n",
    "        self.first = first\n",
    "        self.second = second\n",
    "    def sum(self):\n",
    "        result = self.first + self.second\n",
    "        return result\n",
    "    def mul(self):\n",
    "        result = self.first * self.second\n",
    "        return result\n",
    "    def div(self):\n",
    "        result = self.first / self.second\n",
    "        return result\n",
    "    def sub(self):\n",
    "        result = self.first - self.second\n",
    "        return result\n",
    "\n",
    "class CalculatorV1(Calculator):\n",
    "    \n",
    "    def bow(self):\n",
    "        result = self.first **self.second\n",
    "        return result\n",
    "   \n",
    "    def div(self):\n",
    "        if (self.second == 0):\n",
    "            print(\"0으로 나눌수 없습니다\")\n",
    "            return\n",
    "        else:\n",
    "            return self.first/self.second\n",
    "    \n",
    "#main class\n",
    "calc1 = Calculator()\n",
    "calc1.setData(10,20)\n",
    "print(calc1.sum())\n",
    "\n",
    "calc2 = Calculator(20,30)\n",
    "print(calc2.mul())\n",
    "calc2 = Calculator(40,20)\n",
    "print(calc2.sub())\n",
    "\n",
    "calc3 = CalculatorV1(10,20)\n",
    "print(calc3.sum())\n",
    "print(calc3.sub())\n",
    "print(calc3.mul())\n",
    "print(calc3.div())\n",
    "print(calc3.bow())\n",
    "\n",
    "calc3.setData(10,0)\n",
    "print(calc3.div())"
   ]
  },
  {
   "cell_type": "code",
   "execution_count": 112,
   "metadata": {},
   "outputs": [
    {
     "name": "stdout",
     "output_type": "stream",
     "text": [
      "Employee 생성자\n",
      "나이 : 40, 하고싶은말 : 일하는 동물이다아아아아아\n",
      "40\n",
      "20\n"
     ]
    }
   ],
   "source": [
    "#super() - init_을 바로호출가능\n",
    "class Person:\n",
    "    say = \"난 사람이야\"\n",
    "    age = \"20\"\n",
    "    \n",
    "    def __init__(self, age):\n",
    "        print(\"Person 생성자\")\n",
    "        self.age = age\n",
    "    \n",
    "    def printinfo(self):\n",
    "        print(\"나이 : {}, 하고싶은말 : {}\".format(self.age,self.say))\n",
    "        \n",
    "    def hello(self):\n",
    "        print(\"안녕\")\n",
    "    \n",
    "    def setAge(self,age):\n",
    "        self.age = age\n",
    "    \n",
    "    def getAge(self):\n",
    "        return self.age\n",
    "        \n",
    "class Employee(Person):\n",
    "    say = '일하는 동물이다아아아아아'\n",
    "    subject = '근로자'\n",
    "    \n",
    "    def __init__(self):\n",
    "        print(\"Employee 생성자\")\n",
    "    \n",
    "    def eprintInfo(self):\n",
    "        print(self.age)\n",
    "        print(super().age)\n",
    "        \n",
    "# e1 = Employee(30)\n",
    "# e1.hello()\n",
    "# e1.printinfo()\n",
    "# dir(e1)\n",
    "# e1.setAge(20)\n",
    "# e1.printinfo()\n",
    "\n",
    "e2 = Employee()\n",
    "e2.age = 40\n",
    "e2.printinfo()\n",
    "e2.eprintInfo()\n"
   ]
  },
  {
   "cell_type": "code",
   "execution_count": 95,
   "metadata": {},
   "outputs": [
    {
     "name": "stdout",
     "output_type": "stream",
     "text": [
      "전화걸기\n",
      "통화 기능\n",
      "통화 기능 + 카메라 기능\n",
      "통화 기능 + 카메라 기능 + 인터넷 기능\n"
     ]
    }
   ],
   "source": [
    "#overriding을 이용한 다형성(표준화)\n",
    "class Phone:\n",
    "    def call(self):\n",
    "        print(\"전화걸기\")\n",
    "        \n",
    "class FolderPhone(Phone):\n",
    "    def call(self):\n",
    "        print(\"통화 기능\")\n",
    "        \n",
    "class CameraPhone(Phone):\n",
    "    def call(self):\n",
    "        print(\"통화 기능 + 카메라 기능\")\n",
    "        \n",
    "class SmartPhone(Phone):\n",
    "    def call(self):\n",
    "        print(\"통화 기능 + 카메라 기능 + 인터넷 기능\")\n",
    "        \n",
    "p = Phone()\n",
    "p.call()\n",
    "\n",
    "p = FolderPhone()\n",
    "p.call()\n",
    "\n",
    "p = CameraPhone()\n",
    "p.call()\n",
    "\n",
    "p = SmartPhone()\n",
    "p.call()"
   ]
  },
  {
   "cell_type": "code",
   "execution_count": 122,
   "metadata": {},
   "outputs": [
    {
     "name": "stdout",
     "output_type": "stream",
     "text": [
      "TV 볼륨의 크기는 10로 증가되었습니다.\n",
      "TV 볼륨의 크기는 5로 감소되었습니다.\n",
      "RADIO 볼륨의 크기는 20로 증가되었습니다.\n",
      "SPEAKER 볼륨의 크기는 30로 증가되었습니다.\n"
     ]
    }
   ],
   "source": [
    "#overriding을 이용한 다형성(표준화)\n",
    "\n",
    "class Volume:\n",
    "    vol = 0\n",
    "    def volumUp(self,vol):\n",
    "#self.vol += vol\n",
    "#print(\"볼륨의 크기는 %d로 증가되었습니다.\" %self.vol)\n",
    "        pass\n",
    "\n",
    "    def volumDown(self,vol):\n",
    "#self.vol -= vol\n",
    "#print(\"볼륨의 크기는 %d로 감소되었습니다.\" %self.vol)\n",
    "        pass\n",
    "class TV(Volume):\n",
    "    def volumUp(self,vol):\n",
    "        self.vol += vol\n",
    "        print(\"TV 볼륨의 크기는 %d로 증가되었습니다.\" %self.vol)\n",
    "        \n",
    "    def volumDown(self,vol):\n",
    "        self.vol -= vol\n",
    "        print(\"TV 볼륨의 크기는 %d로 감소되었습니다.\" %self.vol)\n",
    "\n",
    "class Radio(Volume):\n",
    "    def volumUp(self,vol):\n",
    "        self.vol += vol\n",
    "        print(\"RADIO 볼륨의 크기는 %d로 증가되었습니다.\" %self.vol)\n",
    "        \n",
    "    def volumDown(self,vol):\n",
    "        self.vol -= vol\n",
    "        print(\"RADIO 볼륨의 크기는 %d로 감소되었습니다.\" %self.vol)\n",
    "\n",
    "class Speaker(Volume):\n",
    "    def volumUp(self,vol):\n",
    "        self.vol += vol\n",
    "        print(\"SPEAKER 볼륨의 크기는 %d로 증가되었습니다.\" %self.vol)\n",
    "        \n",
    "    def volumDown(self,vol):\n",
    "        self.vol -= vol\n",
    "        print(\"SPEAKER 볼륨의 크기는 %d로 감소되었습니다.\" %self.vol)\n",
    "\n",
    "tv = TV()\n",
    "radio = Radio()\n",
    "speaker = Speaker()\n",
    "\n",
    "tv.volumUp(10)\n",
    "tv.volumDown(5)\n",
    "\n",
    "radio.volumUp(20)\n",
    "speaker.volumUp(30)\n",
    " \n"
   ]
  },
  {
   "cell_type": "code",
   "execution_count": 125,
   "metadata": {
    "scrolled": true
   },
   "outputs": [
    {
     "name": "stdout",
     "output_type": "stream",
     "text": [
      "통화 기능\n",
      "촬영 기능\n"
     ]
    }
   ],
   "source": [
    "class Phone:\n",
    "    def call(self):\n",
    "        print(\"통화 기능\")\n",
    "\n",
    "class Camera:\n",
    "    def picture(self):\n",
    "        print(\"촬영 기능\")\n",
    "        \n",
    "class PhoneCamera(Phone,Camera):\n",
    "    pass\n",
    "\n",
    "a = PhoneCamera()\n",
    "a.call()\n",
    "a.picture()"
   ]
  },
  {
   "cell_type": "code",
   "execution_count": 145,
   "metadata": {},
   "outputs": [
    {
     "name": "stdout",
     "output_type": "stream",
     "text": [
      "소리 증가\n"
     ]
    }
   ],
   "source": [
    "#추상클래스\n",
    "\n",
    "from abc import *\n",
    "\n",
    "class Volume(metaclass=ABCMeta):\n",
    "    vol = 0\n",
    "    \n",
    "    @abstractmethod\n",
    "    def volumUp(self,vol):\n",
    "        pass\n",
    "   \n",
    "\n",
    "    def volumDown(self,vol):\n",
    "        pass\n",
    "    \n",
    "class TextVolume(Volume):\n",
    "    def volumUp(self,vol):\n",
    "        print(\"소리 증가\")\n",
    "\n",
    "test = TextVolume()\n",
    "test.volumUp(30)"
   ]
  },
  {
   "cell_type": "code",
   "execution_count": 148,
   "metadata": {},
   "outputs": [
    {
     "data": {
      "text/plain": [
       "['__abs__',\n",
       " '__add__',\n",
       " '__and__',\n",
       " '__bool__',\n",
       " '__ceil__',\n",
       " '__class__',\n",
       " '__delattr__',\n",
       " '__dir__',\n",
       " '__divmod__',\n",
       " '__doc__',\n",
       " '__eq__',\n",
       " '__float__',\n",
       " '__floor__',\n",
       " '__floordiv__',\n",
       " '__format__',\n",
       " '__ge__',\n",
       " '__getattribute__',\n",
       " '__getnewargs__',\n",
       " '__gt__',\n",
       " '__hash__',\n",
       " '__index__',\n",
       " '__init__',\n",
       " '__init_subclass__',\n",
       " '__int__',\n",
       " '__invert__',\n",
       " '__le__',\n",
       " '__lshift__',\n",
       " '__lt__',\n",
       " '__mod__',\n",
       " '__mul__',\n",
       " '__ne__',\n",
       " '__neg__',\n",
       " '__new__',\n",
       " '__or__',\n",
       " '__pos__',\n",
       " '__pow__',\n",
       " '__radd__',\n",
       " '__rand__',\n",
       " '__rdivmod__',\n",
       " '__reduce__',\n",
       " '__reduce_ex__',\n",
       " '__repr__',\n",
       " '__rfloordiv__',\n",
       " '__rlshift__',\n",
       " '__rmod__',\n",
       " '__rmul__',\n",
       " '__ror__',\n",
       " '__round__',\n",
       " '__rpow__',\n",
       " '__rrshift__',\n",
       " '__rshift__',\n",
       " '__rsub__',\n",
       " '__rtruediv__',\n",
       " '__rxor__',\n",
       " '__setattr__',\n",
       " '__sizeof__',\n",
       " '__str__',\n",
       " '__sub__',\n",
       " '__subclasshook__',\n",
       " '__truediv__',\n",
       " '__trunc__',\n",
       " '__xor__',\n",
       " 'bit_length',\n",
       " 'conjugate',\n",
       " 'denominator',\n",
       " 'from_bytes',\n",
       " 'imag',\n",
       " 'numerator',\n",
       " 'real',\n",
       " 'to_bytes']"
      ]
     },
     "execution_count": 148,
     "metadata": {},
     "output_type": "execute_result"
    }
   ],
   "source": [
    "#object - 여기서 i는 인트형으로 초기화 했지만 object를 상속 받았기 때문에 class가 된다.\n",
    "#object - 최상의 클래스\n",
    "\n",
    "dir(object)\n",
    "i = 10\n",
    "dir(i)"
   ]
  },
  {
   "cell_type": "code",
   "execution_count": 152,
   "metadata": {},
   "outputs": [
    {
     "name": "stdout",
     "output_type": "stream",
     "text": [
      "파이썬 클래스\n",
      "파이썬 클래스\n",
      "\n",
      "데이터 변경\n",
      "데이터 변경\n",
      "데이터 변경\n",
      "\n",
      "데이터 변경\n",
      "데이터 변경\n",
      "i2 데이터만 변경\n"
     ]
    }
   ],
   "source": [
    "#__class__, __slots__\n",
    "class Test:\n",
    "    data = \"파이썬 클래스\"\n",
    "    \n",
    "i1 = Test()\n",
    "i2 = Test()\n",
    "print(i1.data)\n",
    "print(i2.data)\n",
    "print()\n",
    "i1.__class__.data = \"데이터 변경\"\n",
    "print(Test.data)\n",
    "print(i1.data)\n",
    "print(i2.data)\n",
    "print()\n",
    "i2.data = \"i2 데이터만 변경\"\n",
    "print(Test.data)\n",
    "print(i1.data)\n",
    "print(i2.data)"
   ]
  },
  {
   "cell_type": "code",
   "execution_count": 154,
   "metadata": {},
   "outputs": [
    {
     "name": "stdout",
     "output_type": "stream",
     "text": [
      "호랑이 20\n"
     ]
    }
   ],
   "source": [
    "#__slots__\n",
    "\n",
    "class Animal:\n",
    "    def printData(self):\n",
    "        print(self.name,self.age)\n",
    "        \n",
    "a = Animal()\n",
    "# a.printData()\n",
    "a.name = '호랑이'\n",
    "a.age = 20\n",
    "a.printData()\n",
    "\n",
    "#a.title = '동물'"
   ]
  },
  {
   "cell_type": "code",
   "execution_count": 5,
   "metadata": {},
   "outputs": [
    {
     "name": "stdout",
     "output_type": "stream",
     "text": [
      "tom의 회전량은우회전10\n"
     ]
    }
   ],
   "source": [
    "class Pohamhandle:\n",
    "    quantity = 0\n",
    "    \n",
    "    def leftTurn(self,quantity):\n",
    "        self.quantity = quantity\n",
    "        return '자회전'\n",
    "    \n",
    "    def rightTurn(self,quantity):\n",
    "        self.quantity = quantity\n",
    "        return '우회전'\n",
    "    \n",
    "    def straightTurn(self,quantity):\n",
    "        self.quantity = quantity\n",
    "        return '직진'\n",
    "\n",
    "class PohamCar:\n",
    "    turnShow = '정지'\n",
    "    \n",
    "    def __init__(self,ownerName):\n",
    "        self.ownerName = ownerName #인스턴스 별로 owername 멤버 등록\n",
    "        self.handle = Pohamhandle() #클래스의 포함\n",
    "        \n",
    "    def TurnHandle(self,q):\n",
    "        if(q > 0):\n",
    "            self.turnShow = self.handle.rightTurn(q)\n",
    "        elif q < 0:\n",
    "            self.turnShow = self.handle.leftTurn(q)\n",
    "        elif q == 0:\n",
    "            self.turnShow = self.handle.straight(q)\n",
    "            \n",
    "tom = PohamCar(\"tom\")\n",
    "tom.TurnHandle(10)\n",
    "print(tom.ownerName + \"의 회전량은\" + tom.turnShow + str(tom.handle.quantity))"
   ]
  },
  {
   "cell_type": "code",
   "execution_count": 6,
   "metadata": {
    "scrolled": true
   },
   "outputs": [
    {
     "name": "stdout",
     "output_type": "stream",
     "text": [
      "냉장고 문 열기\n",
      "냉장고 속에 음식이 들어감\n",
      "- 사과 2019-3-31\n",
      "\n",
      "냉장고 문 닫기\n"
     ]
    }
   ],
   "source": [
    "class Fridge:\n",
    "    isOpened = False   #냉장고 문 개폐 여부 확인용\n",
    "    foods = []          #FoodData type 자료 저장용\n",
    "\n",
    "    def open(self):      #냉장고 문 열기 메소드\n",
    "        self.isOpened = True\n",
    "        print('냉장고 문 열기')\n",
    "\n",
    "    def put(self, thing):  #냉장고에 음식물 넣기 메소드\n",
    "        if self.isOpened:\n",
    "            self.foods.append(thing)   #포함\n",
    "            print('냉장고 속에 음식이 들어감')\n",
    "            self.list()\n",
    "        else:\n",
    "            print('냉장고 문이 닫혀서 음식을 넣을 수 없음')\n",
    "\n",
    "    def close(self):     #냉장고 문 닫기 메소드\n",
    "        self.isOpened = False\n",
    "        print('냉장고 문 닫기')\n",
    "\n",
    "    def list(self):       #냉장고 속 음식물 목록 보기\n",
    "        for f in self.foods:\n",
    "            print('-', f.irum, f.expiry_date)\n",
    "        print() \n",
    "\n",
    "\n",
    "class FoodData:\n",
    "    def __init__(self, irum, expiry_date):\n",
    "        self.irum = irum\n",
    "        self.expiry_date = expiry_date\n",
    "        \n",
    "f = Fridge()\n",
    "apple = FoodData('사과','2019-3-31')\n",
    "f.open()\n",
    "f.put(apple)\n",
    "f.close()"
   ]
  },
  {
   "cell_type": "code",
   "execution_count": null,
   "metadata": {},
   "outputs": [],
   "source": []
  }
 ],
 "metadata": {
  "kernelspec": {
   "display_name": "Python 3",
   "language": "python",
   "name": "python3"
  },
  "language_info": {
   "codemirror_mode": {
    "name": "ipython",
    "version": 3
   },
   "file_extension": ".py",
   "mimetype": "text/x-python",
   "name": "python",
   "nbconvert_exporter": "python",
   "pygments_lexer": "ipython3",
   "version": "3.7.3"
  }
 },
 "nbformat": 4,
 "nbformat_minor": 2
}
