{
 "cells": [
  {
   "cell_type": "code",
   "execution_count": 5,
   "metadata": {},
   "outputs": [
    {
     "name": "stdout",
     "output_type": "stream",
     "text": [
      "우리반 학생 이름 - ['학생1', '학생2', '학생3', '학생4', '학생5', '학생6', '학생7', '학생8', '학생9', '학생10']\n",
      "전학생 추가 - ['학생1', '학생2', '학생3', '학생4', '전학생1', '학생5', '학생6', '학생7', '학생8', '학생9', '학생10']\n",
      "['학생1', '학생2', '학생3', '학생4', '전학생1', '학생5', '학생6', '학생7', '학생8', '학생9'] None\n",
      "5번째 학생부터 9번째 학생의 이름 : ['전학생1', '학생5', '학생6', '학생7', '학생8']\n",
      "인덱스가 5인 학생의 이름 :  학생5\n",
      "9\n",
      "도메인주소: http://www.python.org\n",
      "내용: Python web site\n"
     ]
    }
   ],
   "source": [
    "student = ['학생1','학생2','학생3','학생4','학생5','학생6','학생7','학생8','학생9','학생10']\n",
    "print(\"우리반 학생 이름 -\" ,student)\n",
    "student.insert(4,'전학생1')\n",
    "print(\"전학생 추가 -\" ,student)\n",
    "bye = student.remove('학생10')\n",
    "print(student,bye)\n",
    "class1 = student[4:9]\n",
    "print(\"5번째 학생부터 9번째 학생의 이름 :\" ,class1)\n",
    "print(\"인덱스가 %d인 학생의 이름 : \" %student.index('학생5'), student[5])\n",
    "tag = '<a href=\"http://www.python.org\">Python web site</a>'\n",
    "print(tag.index('http'))\n",
    "print(\"도메인주소:\" ,tag[9:30])\n",
    "print(\"내용:\" ,tag[32:47])\n"
   ]
  },
  {
   "cell_type": "code",
   "execution_count": 2,
   "metadata": {},
   "outputs": [
    {
     "name": "stdout",
     "output_type": "stream",
     "text": [
      "교환할 돈은 얼마입니까? 2777\n",
      "500원 짜리 :  5\n",
      "100원 짜리 :  2\n",
      "50원 짜리 :  1\n",
      "10원 짜리 :  2\n",
      "남은돈 :  7\n"
     ]
    }
   ],
   "source": [
    "FirstText = int(input(\"교환할 돈은 얼마입니까? \"))\n",
    "\n",
    "first = int(FirstText / 500)\n",
    "first_temp = int(FirstText % 500)\n",
    "second = int(first_temp / 100)\n",
    "second_temp = int(first_temp % 100)\n",
    "third = int(second_temp / 50)\n",
    "third_temp = int(second_temp % 50)\n",
    "fourth = int(third_temp / 10)\n",
    "trash = int(third_temp % 10)\n",
    "print(\"500원 짜리 : \",first)\n",
    "print(\"100원 짜리 : \",second)\n",
    "print(\"50원 짜리 : \",third)\n",
    "print(\"10원 짜리 : \",fourth)\n",
    "print(\"남은돈 : \",trash)"
   ]
  },
  {
   "cell_type": "code",
   "execution_count": 4,
   "metadata": {},
   "outputs": [
    {
     "name": "stdout",
     "output_type": "stream",
     "text": [
      "사과의 상태를 입력하세요 :ㅇㅇ\n",
      "사과를 사지 않는다.\n"
     ]
    }
   ],
   "source": [
    "# year = int(input(\"연도를 입력하세요 :\"))\n",
    "# year_check = year%4\n",
    "# if(year%4 == 0):\n",
    "#     print(\"윤년\")\n",
    "# elif(year_check%100 == 0):\n",
    "#     print(\"평년\")\n",
    "# elif(year_check%400 == 0):\n",
    "#     print(\"윤년\")\n",
    "# else:\n",
    "#     print(\"평년\")\n",
    "    \n",
    "# print(\"=\" * 20)\n",
    "\n",
    "statue = input(\"사과의 상태를 입력하세요 :\")\n",
    "if(statue == '신선'):\n",
    "    apple = int(input(\"사과 1개의 가격을 입력하세요 :\"))\n",
    "    if(apple > 1000):\n",
    "        print(\"5개를 산다.\")\n",
    "    elif(apple < 1000):\n",
    "        print(\"10개를 산다.\")\n",
    "else:\n",
    "    print(\"사과를 사지 않는다.\")"
   ]
  },
  {
   "cell_type": "code",
   "execution_count": 9,
   "metadata": {},
   "outputs": [
    {
     "name": "stdout",
     "output_type": "stream",
     "text": [
      "(가위, 바위, 보) 중에서 하나를 선택하세요 :가위\n",
      "사용자 :  가위\n",
      "컴퓨터 :  바위\n",
      "컴퓨터 승리\n"
     ]
    }
   ],
   "source": [
    "import random\n",
    "player = input(\"(가위, 바위, 보) 중에서 하나를 선택하세요 :\")\n",
    "game_info = ['가위','바위','보']\n",
    "game = random.choice(game_info)\n",
    "print(\"사용자 : \",player)\n",
    "print(\"컴퓨터 : \",game)\n",
    "if(game == player):\n",
    "    print(\"비김\")\n",
    "elif (game != player):\n",
    "    if(game == '가위'):\n",
    "        if(player == '바위'):\n",
    "            print(\"사용자 승리\")\n",
    "        elif(player == '보'):\n",
    "            print(\"컴퓨터 승리\")\n",
    "    elif(game == '바위'):\n",
    "        if(player == '보'):\n",
    "            print(\"사용자 승리\")\n",
    "        elif(player == '가위'):\n",
    "            print(\"컴퓨터 승리\")\n",
    "    elif(game == '보'):\n",
    "        if(player == '가위'):\n",
    "            print(\"사용자 승리\")\n",
    "        elif(player == '바위'):\n",
    "            print(\"컴퓨터 승리\")"
   ]
  },
  {
   "cell_type": "code",
   "execution_count": 18,
   "metadata": {},
   "outputs": [
    {
     "name": "stdout",
     "output_type": "stream",
     "text": [
      "정수를 입력 :3\n",
      "결과 :  6\n"
     ]
    }
   ],
   "source": [
    "a = int(input(\"정수를 입력 :\"))\n",
    "result = 1\n",
    "for i in range(1, a+1):\n",
    "    result = result * i\n",
    "print(\"결과 : \",result)"
   ]
  },
  {
   "cell_type": "code",
   "execution_count": 21,
   "metadata": {},
   "outputs": [
    {
     "name": "stdout",
     "output_type": "stream",
     "text": [
      "정수를 입력 :12345\n",
      "결과 :  15\n"
     ]
    }
   ],
   "source": [
    "a = int(input(\"정수를 입력 :\"))\n",
    "result = 0\n",
    "for i in str(a):\n",
    "    result = result + int(i)\n",
    "print(\"결과 : \",result)"
   ]
  },
  {
   "cell_type": "code",
   "execution_count": 2,
   "metadata": {},
   "outputs": [
    {
     "name": "stdout",
     "output_type": "stream",
     "text": [
      "1부터 100까지 숫자를 맞추시오.\n",
      "숫자입력 :50\n",
      "작음!\n",
      "숫자입력 :70\n",
      "작음!\n",
      "숫자입력 :80\n",
      "작음!\n",
      "숫자입력 :90\n",
      "높음!\n",
      "숫자입력 :95\n",
      "높음!\n",
      "숫자입력 :93\n",
      "높음!\n",
      "숫자입력 :92\n",
      "높음!\n",
      "숫자입력 :91\n",
      "높음!\n",
      "숫자입력 :94\n",
      "높음!\n",
      "숫자입력 :96\n",
      "높음!\n",
      "숫자입력 :85\n",
      "작음!\n",
      "숫자입력 :88\n",
      "높음!\n",
      "숫자입력 :87\n",
      "높음!\n",
      "숫자입력 :86\n",
      "축하합니다.\n",
      "시도횟수 :  14\n"
     ]
    }
   ],
   "source": [
    "import random\n",
    "print(\"1부터 100까지 숫자를 맞추시오.\")\n",
    "cnt  = 1;\n",
    "num = random.randint(1,100)\n",
    "while True:\n",
    "    a = int(input(\"숫자입력 :\"))\n",
    "    if(a == num):\n",
    "        print(\"축하합니다.\")\n",
    "        break\n",
    "    elif(a > num):\n",
    "        print(\"높음!\")\n",
    "    elif(a < num):\n",
    "        print(\"작음!\")\n",
    "    cnt = cnt + 1\n",
    "print(\"시도횟수 : \", cnt)"
   ]
  },
  {
   "cell_type": "code",
   "execution_count": 53,
   "metadata": {},
   "outputs": [
    {
     "name": "stdout",
     "output_type": "stream",
     "text": [
      "출력할 단의 시작 :3\n",
      "출력할 단의 끝 :5\n",
      "3 * 1 = 3\n",
      "3 * 2 = 6\n",
      "3 * 3 = 9\n",
      "3 * 4 = 12\n",
      "3 * 5 = 15\n",
      "3 * 6 = 18\n",
      "3 * 7 = 21\n",
      "3 * 8 = 24\n",
      "3 * 9 = 27\n",
      "3단\n",
      "4 * 1 = 4\n",
      "4 * 2 = 8\n",
      "4 * 3 = 12\n",
      "4 * 4 = 16\n",
      "4 * 5 = 20\n",
      "4 * 6 = 24\n",
      "4 * 7 = 28\n",
      "4 * 8 = 32\n",
      "4 * 9 = 36\n",
      "4단\n",
      "5 * 1 = 5\n",
      "5 * 2 = 10\n",
      "5 * 3 = 15\n",
      "5 * 4 = 20\n",
      "5 * 5 = 25\n",
      "5 * 6 = 30\n",
      "5 * 7 = 35\n",
      "5 * 8 = 40\n",
      "5 * 9 = 45\n",
      "5단\n"
     ]
    }
   ],
   "source": [
    "a = int(input(\"출력할 단의 시작 :\"))\n",
    "b = int(input(\"출력할 단의 끝 :\"))\n",
    "result = 1\n",
    "for i in range(a,b+1,1):\n",
    "    for v in range(1,10):\n",
    "        result = i * v\n",
    "        print(\"%d * %d = %d\"%(i,v,result))\n",
    "    print(\"%d단\" %i)"
   ]
  },
  {
   "cell_type": "code",
   "execution_count": 6,
   "metadata": {},
   "outputs": [
    {
     "name": "stdout",
     "output_type": "stream",
     "text": [
      "연산자 입력 :ㅈㅈ\n",
      "========== 오직 정수만 입력해주세요 ==========\n",
      "첫번째 입력 :3\n",
      "두번째 입력 :6\n",
      "프로그램 종료\n"
     ]
    }
   ],
   "source": [
    "while True:\n",
    "    a = input(\"연산자 입력 :\")\n",
    "    print('='*10,\"오직 정수만 입력해주세요\",'='*10)\n",
    "    num1 = int(input(\"첫번째 입력 :\"))\n",
    "    num2 = int(input(\"두번째 입력 :\"))\n",
    "    if (a == '+'):\n",
    "        print(\"%d + %d = %d\" %(num1,num2,num1+num2))\n",
    "    elif (a == '-'):\n",
    "        print(\"%d - %d = %d\" %(num1,num2,num1-num2))\n",
    "    elif (a == '*'):\n",
    "        print(\"%d * %d = %d\" %(num1,num2,num1*num2))\n",
    "    elif (a == '/'):\n",
    "        print(\"%d / %d = %d\" %(num1,num2,num1/num2))\n",
    "    elif (a == 'x' or 'X'):\n",
    "        print(\"프로그램 종료\")\n",
    "        break\n",
    "    else:\n",
    "        print(\"해당 연산기능이 없습니다.\")\n"
   ]
  },
  {
   "cell_type": "code",
   "execution_count": 10,
   "metadata": {},
   "outputs": [
    {
     "name": "stdout",
     "output_type": "stream",
     "text": [
      "1 : 합격\n",
      "2 : 합격\n",
      "3 : 불합격\n",
      "4 : 불합격\n",
      "5 : 불합격\n",
      "6 : 합격\n",
      "7 : 합격\n"
     ]
    }
   ],
   "source": [
    "points = [90,78,25,44,60,72,88]\n",
    "cnt = 0\n",
    "for i in points:\n",
    "    cnt = cnt + 1\n",
    "    if(i > 70):\n",
    "        print(\"%d : 합격\" %cnt)\n",
    "    else:\n",
    "        print(\"%d : 불합격\" %cnt)\n",
    "        "
   ]
  },
  {
   "cell_type": "code",
   "execution_count": 17,
   "metadata": {},
   "outputs": [
    {
     "name": "stdout",
     "output_type": "stream",
     "text": [
      "숫자 :  3\n",
      "숫자 :  7\n",
      "숫자 :  10\n",
      "숫자 :  20\n",
      "결과 : 짝수 = 30, 홀수 = 10\n"
     ]
    }
   ],
   "source": [
    "dog = [3,7,10,20]\n",
    "temp1 = 0\n",
    "temp2 = 0\n",
    "for i in dog:\n",
    "    if(i == 0):\n",
    "        print(\"출력 불가능\")\n",
    "        break\n",
    "    else:\n",
    "        if (i % 2 == 0):\n",
    "            temp1 = temp1 + i\n",
    "            print(\"숫자 : \" ,i)\n",
    "        else:\n",
    "            temp2 = temp2 + i\n",
    "            print(\"숫자 : \" ,i)\n",
    "print(\"결과 : 짝수 = %d, 홀수 = %d\" %(temp1,temp2))"
   ]
  },
  {
   "cell_type": "code",
   "execution_count": 30,
   "metadata": {},
   "outputs": [
    {
     "name": "stdout",
     "output_type": "stream",
     "text": [
      "최소 : 11\n",
      "최대 : 55\n"
     ]
    }
   ],
   "source": [
    "a = [44,33,22,55,11]\n",
    "min = a[0]\n",
    "max = a[0]\n",
    "for i in a:\n",
    "    if(i < min):\n",
    "        min = i\n",
    "    else:\n",
    "        max = i\n",
    "print(\"최소 :\" ,min)\n",
    "print(\"최대 :\" ,max)"
   ]
  },
  {
   "cell_type": "code",
   "execution_count": 6,
   "metadata": {},
   "outputs": [
    {
     "name": "stdout",
     "output_type": "stream",
     "text": [
      "데이터 입력(키 하나만 입력): a\n",
      "결과 : a는 소문자 데이터입니다. \n"
     ]
    }
   ],
   "source": [
    "a = input(\"데이터 입력(키 하나만 입력): \")\n",
    "b=ord(a)\n",
    "if(b>=48 and b<=57):\n",
    "    print(\"결과 : {}는 숫자 데이터입니다. \" .format(a))\n",
    "elif(b>=65 and b<=90):\n",
    "    print(\"결과 : {}는 대문자 데이터입니다. \" .format(a))\n",
    "elif(b>=97 and b<=122):\n",
    "    print(\"결과 : {}는 소문자 데이터입니다. \" .format(a))\n",
    "else:\n",
    "    print(\"결과 : {}는 그 외 데이터입니다. \" .format(a))\n"
   ]
  },
  {
   "cell_type": "code",
   "execution_count": null,
   "metadata": {},
   "outputs": [
    {
     "name": "stdout",
     "output_type": "stream",
     "text": [
      "****메뉴****\n",
      "1.TV\n",
      "2.Radio\n",
      "3.Speaker\n",
      "4.종료\n",
      "선택하세요 :1\n",
      "TV를 선택하였습니다.\n",
      "\n",
      "\n",
      "전원이 꺼져있습니다.\n",
      "***메뉴***\n",
      "1.전원 켬\n",
      "2.나가기\n",
      "선택하세요 :1\n",
      "전원이 켜졌습니다.\n",
      "\n",
      "\n",
      "볼륨을 조정하세요\n",
      "현재볼륨 : 18\n",
      "1. 소리 줄임\n",
      "2. 소리 증가\n",
      "3. 나가기\n",
      "선택하세요 :1\n",
      "현재 볼륨은 17입니다.\n",
      "볼륨을 조정하세요\n",
      "현재볼륨 : 18\n",
      "1. 소리 줄임\n",
      "2. 소리 증가\n",
      "3. 나가기\n",
      "선택하세요 :2\n",
      "현재 볼륨은 19입니다.\n",
      "볼륨을 조정하세요\n",
      "현재볼륨 : 18\n",
      "1. 소리 줄임\n",
      "2. 소리 증가\n",
      "3. 나가기\n"
     ]
    }
   ],
   "source": [
    "class Feature:\n",
    "    def powerOff():\n",
    "        pass\n",
    "    def volumUp():\n",
    "        pass\n",
    "    def volumOff():\n",
    "        pass\n",
    "    \n",
    "class Volume(Feature):\n",
    "    vol = 18\n",
    "    def volumeUp(self):\n",
    "        self.vol = self.vol + 1\n",
    "        if(self.vol == 100):\n",
    "            print('소리가 최대입니다.')\n",
    "            return\n",
    "        else:\n",
    "            return self.vol\n",
    "\n",
    "    def volumeDown(self,):\n",
    "        self.vol = self.vol - 1\n",
    "        if(self.vol == 1):\n",
    "            print('소리가 최소입니다.')\n",
    "            return\n",
    "        else:\n",
    "             return self.vol\n",
    "        \n",
    "class Power(Feature):\n",
    "    cntl = 'off'\n",
    "    def powerOff(self):\n",
    "        if(self.cntl == 'off'):\n",
    "            print(\"전원이 꺼져있습니다.\")\n",
    "        \n",
    "class Interface(Volume):\n",
    "    def featureMsg(self):\n",
    "        print('****메뉴****')\n",
    "        print('1.TV')\n",
    "        print('2.Radio')\n",
    "        print('3.Speaker')\n",
    "        print('4.종료')\n",
    "    def powerMsg(self):\n",
    "        print('***메뉴***')\n",
    "        print('1.전원 켬')\n",
    "        print('2.나가기')\n",
    "    def volumeMsg(self):\n",
    "        print(\"볼륨을 조정하세요\")\n",
    "        print('현재볼륨 :',self.vol)\n",
    "        print('1. 소리 줄임')\n",
    "        print('2. 소리 증가')\n",
    "        print('3. 나가기')\n",
    "\n",
    "class Choice(Volume):\n",
    "    def choice1(self):\n",
    "        a = input('선택하세요 :')\n",
    "        if(a == '1'):\n",
    "            print('TV를 선택하였습니다.')\n",
    "        elif(a == '2'):\n",
    "            print('Radio를 선택하였습니다.')\n",
    "        elif(a == '3'):\n",
    "            print('Speaker를 선택하였습니다.')\n",
    "        elif(a == '4'):\n",
    "            print('종료')\n",
    "        else:\n",
    "            print('항목중에 고르세요')\n",
    "    def choice2(self):\n",
    "        a = input('선택하세요 :')\n",
    "        if(a == '1'):\n",
    "            print('전원이 켜졌습니다.')\n",
    "        elif(a == '2'):\n",
    "            print('2.나가기')\n",
    "        else:\n",
    "            print('항목중에 고르세요')\n",
    "    def choice3(self,vol):\n",
    "        a = input('선택하세요 :')\n",
    "        b = Volume()\n",
    "        if(a == '1'):\n",
    "            b.volumeDown()\n",
    "            print('현재 볼륨은 %d입니다.'%b.vol)\n",
    "            return b.vol\n",
    "        elif(a == '2'):\n",
    "            b.volumeUp()\n",
    "            print('현재 볼륨은 %d입니다.'%b.vol)\n",
    "            return b.vol\n",
    "        elif(a == '3'):\n",
    "            print('종료')\n",
    "        else:\n",
    "            print('항목중에 고르세요')\n",
    "\n",
    "while True:\n",
    "    a = Interface()\n",
    "    a.featureMsg()\n",
    "    a = Choice()\n",
    "    a.choice1()\n",
    "    print('\\n')\n",
    "    a = Power()\n",
    "    a.powerOff()\n",
    "    a = Interface()\n",
    "    a.powerMsg()\n",
    "    a = Choice()\n",
    "    a.choice2()\n",
    "    print('\\n')\n",
    "    b = Volume()\n",
    "    while True:\n",
    "        if(b.vol == 1 or b.vol == 100):\n",
    "            break\n",
    "        else:\n",
    "            d = Interface()\n",
    "            d.volumeMsg()\n",
    "            e = Choice()\n",
    "            e.choice3(b.vol)\n",
    "        \n"
   ]
  },
  {
   "cell_type": "code",
   "execution_count": null,
   "metadata": {},
   "outputs": [],
   "source": []
  },
  {
   "cell_type": "code",
   "execution_count": null,
   "metadata": {},
   "outputs": [],
   "source": [
    "1"
   ]
  }
 ],
 "metadata": {
  "kernelspec": {
   "display_name": "Python 3",
   "language": "python",
   "name": "python3"
  },
  "language_info": {
   "codemirror_mode": {
    "name": "ipython",
    "version": 3
   },
   "file_extension": ".py",
   "mimetype": "text/x-python",
   "name": "python",
   "nbconvert_exporter": "python",
   "pygments_lexer": "ipython3",
   "version": "3.7.1"
  }
 },
 "nbformat": 4,
 "nbformat_minor": 2
}
