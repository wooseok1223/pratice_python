{
 "cells": [
  {
   "cell_type": "code",
   "execution_count": null,
   "metadata": {},
   "outputs": [
    {
     "name": "stdout",
     "output_type": "stream",
     "text": [
      "****메뉴****\n",
      "1.TV\n",
      "2.Radio\n",
      "3.Speaker\n",
      "4.종료\n",
      "선택하세요 :1\n",
      "TV를 선택하였습니다.\n",
      "선택하세요 :2\n",
      "Radio를 선택하였습니다.\n",
      "선택하세요 :3\n",
      "Speaker를 선택하였습니다.\n",
      "선택하세요 :4\n",
      "\n",
      "\n",
      "전원이 꺼져있습니다.\n",
      "***메뉴***\n",
      "1.전원 켬\n",
      "2.나가기\n"
     ]
    }
   ],
   "source": [
    "class Feature:\n",
    "    def powerOff():\n",
    "        pass\n",
    "    def volumUp():\n",
    "        pass\n",
    "    def volumOff():\n",
    "        pass\n",
    "    \n",
    "class Volume(Feature):\n",
    "    vol = 18\n",
    "    def volumeUp(self):\n",
    "        self.vol = self.vol + 1\n",
    "        if(self.vol == 100):\n",
    "            print('소리가 최대입니다.')\n",
    "            return\n",
    "        else:\n",
    "            return self.vol\n",
    "\n",
    "    def volumeDown(self,):\n",
    "        self.vol = self.vol - 1\n",
    "        if(self.vol == 1):\n",
    "            print('소리가 최소입니다.')\n",
    "            return\n",
    "        else:\n",
    "             return self.vol\n",
    "        \n",
    "class Power(Feature):\n",
    "    cntl = 'off'\n",
    "    def powerOff(self):\n",
    "        if(self.cntl == 'off'):\n",
    "            print(\"전원이 꺼져있습니다.\")\n",
    "        \n",
    "class Interface(Volume):\n",
    "    def featureMsg(self):\n",
    "        print('****메뉴****')\n",
    "        print('1.TV')\n",
    "        print('2.Radio')\n",
    "        print('3.Speaker')\n",
    "        print('4.종료')\n",
    "    def powerMsg(self):\n",
    "        print('***메뉴***')\n",
    "        print('1.전원 켬')\n",
    "        print('2.나가기')\n",
    "    def volumeMsg(self):\n",
    "        print(\"볼륨을 조정하세요\")\n",
    "        print('현재볼륨 :',self.vol)\n",
    "        print('1. 소리 줄임')\n",
    "        print('2. 소리 증가')\n",
    "        print('3. 나가기')\n",
    "\n",
    "class Choice(Volume):\n",
    "    def choice1(self):\n",
    "        a = input('선택하세요 :')\n",
    "        if(a == '1'):\n",
    "            print('TV를 선택하였습니다.')\n",
    "        elif(a == '2'):\n",
    "            print('Radio를 선택하였습니다.')\n",
    "        elif(a == '3'):\n",
    "            print('Speaker를 선택하였습니다.')\n",
    "        elif(a == '4'):\n",
    "            while True:\n",
    "                if(a == '4')\n",
    "                    print('종료')\n",
    "                    break\n",
    "        else:\n",
    "            print('항목중에 고르세요')\n",
    "    def choice2(self):\n",
    "        a = input('선택하세요 :')\n",
    "        if(a == '1'):\n",
    "            print('전원이 켜졌습니다.')\n",
    "        elif(a == '2'):\n",
    "            print('2.나가기')\n",
    "            break\n",
    "        else:\n",
    "            print('항목중에 고르세요')\n",
    "    def choice3(self,vol):\n",
    "        a = input('선택하세요 :')\n",
    "        b = Volume()\n",
    "        if(a == '1'):\n",
    "            b.volumeDown()\n",
    "            print('현재 볼륨은 %d입니다.'%b.vol)\n",
    "            return b.vol\n",
    "        elif(a == '2'):\n",
    "            b.volumeUp()\n",
    "            print('현재 볼륨은 %d입니다.'%b.vol)\n",
    "            return b.vol\n",
    "        elif(a == '3'):\n",
    "            print('종료')\n",
    "            break\n",
    "        else:\n",
    "            print('항목중에 고르세요')\n",
    "\n",
    "while True:\n",
    "    a = Interface()\n",
    "    a.featureMsg()\n",
    "    a = Choice()\n",
    "    a.choice1()\n",
    "    print('\\n')\n",
    "    a = Power()\n",
    "    a.powerOff()\n",
    "    a = Interface()\n",
    "    a.powerMsg()\n",
    "    a = Choice()\n",
    "    a.choice2()\n",
    "    print('\\n')\n",
    "    b = Volume()\n",
    "    while True:\n",
    "        if(b.vol == 1 or b.vol == 100):\n",
    "            break\n",
    "        else:\n",
    "            d = Interface()\n",
    "            d.volumeMsg()\n",
    "            e = Choice()\n",
    "            e.choice3(b.vol)\n",
    "        \n"
   ]
  },
  {
   "cell_type": "code",
   "execution_count": 8,
   "metadata": {},
   "outputs": [
    {
     "name": "stdout",
     "output_type": "stream",
     "text": [
      "개\n",
      "3발자국\n",
      "고양이\n",
      "3발자국\n",
      "개\n",
      "3발자국\n",
      "어우~\n",
      "개\n",
      "3발자국\n",
      "어우!!!\n"
     ]
    }
   ],
   "source": [
    "class Animal:\n",
    "    def move(self):\n",
    "        pass\n",
    "        \n",
    "class Dog(Animal):\n",
    "    name = '개'\n",
    "    def move(self):\n",
    "        print('3발자국')\n",
    "\n",
    "class Cat(Animal):\n",
    "    name = '고양이'\n",
    "    def move(self):\n",
    "        print('3발자국')\n",
    "        \n",
    "class Fox(Dog,Cat):\n",
    "    def move(self):\n",
    "        print('3발자국')\n",
    "    def foxMethod(self):\n",
    "        print('어우~')\n",
    "        \n",
    "class Wolf(Dog,Cat):\n",
    "    def move(self):\n",
    "        print('3발자국')\n",
    "    def wolfMethod(self):\n",
    "        print('어우!!!')\n",
    "        \n",
    "a = Dog()\n",
    "print(a.name)\n",
    "a.move()\n",
    "b = Cat()\n",
    "print(b.name)\n",
    "b.move()\n",
    "c = Fox()\n",
    "print(c.name)\n",
    "c.move()\n",
    "c.foxMethod()\n",
    "d = Wolf()\n",
    "print(d.name)\n",
    "d.move()\n",
    "d.wolfMethod()"
   ]
  },
  {
   "cell_type": "code",
   "execution_count": 10,
   "metadata": {},
   "outputs": [
    {
     "name": "stdout",
     "output_type": "stream",
     "text": [
      "{'one': 'a', 'two': 'b', 'three': 'c', 'four': 'd'}\n",
      "dict_keys(['one', 'two', 'three', 'four'])\n",
      "dict_values(['a', 'b', 'c', 'd'])\n"
     ]
    }
   ],
   "source": [
    "def param_pratice(** kwargs):\n",
    "    print(kwargs)\n",
    "    print(kwargs.keys())\n",
    "    print(kwargs.values())\n",
    " \n",
    "\n",
    "if __name__ == '__main__':\n",
    "    param_pratice(one = 'a', two = 'b', three = 'c', four = 'd')"
   ]
  },
  {
   "cell_type": "code",
   "execution_count": 12,
   "metadata": {},
   "outputs": [
    {
     "name": "stdout",
     "output_type": "stream",
     "text": [
      "('a', 'b', 'c', 'd')\n"
     ]
    }
   ],
   "source": [
    "def param_pratice(*args):\n",
    "     print(args)\n",
    "\n",
    "if __name__ == '__main__':\n",
    "     param_pratice('a','b','c','d')"
   ]
  },
  {
   "cell_type": "code",
   "execution_count": 17,
   "metadata": {},
   "outputs": [
    {
     "name": "stdout",
     "output_type": "stream",
     "text": [
      "dept 는 개발1팀\n",
      "['dou', 'zone']\n"
     ]
    }
   ],
   "source": [
    "list = []\n",
    "def douzone(*args,**kwargs):\n",
    "    for key,value in kwargs.items():\n",
    "        print(\"{0} 는 {1}\".format(key,value))\n",
    "        for value in args:\n",
    "            list.append(value)\n",
    "        print(list)\n",
    "if __name__ == '__main__':\n",
    "     douzone('dou','zone', dept = '개발1팀')           "
   ]
  },
  {
   "cell_type": "code",
   "execution_count": null,
   "metadata": {},
   "outputs": [],
   "source": [
    "a = [\"str_1\",\"str_2\",\"str_3\",\"str_4\",\"str_5\"]\n",
    "b = [\"1231\",123,\"567\",567,'789']\n"
   ]
  },
  {
   "cell_type": "code",
   "execution_count": 2,
   "metadata": {},
   "outputs": [
    {
     "data": {
      "text/plain": [
       "['str_4']"
      ]
     },
     "execution_count": 2,
     "metadata": {},
     "output_type": "execute_result"
    }
   ],
   "source": [
    "a = {\"str_1\" : \"1231\" ,\"str_2\" : 123,\"str_3\" : \"더존비즈온_cucu\",\"str_4\" : \"33333333333_secu\",\"str_5\" : 789}\n",
    "test1 = list(a.keys())\n",
    "test2 = list(a.values())\n",
    "tt1 = []\n",
    "tt2 = []\n",
    "for x,y in zip(test1,test2):\n",
    "    if \"_secu\" in str(y):\n",
    "        tt1.append(x)\n",
    "        tt2.append(y)\n",
    "tt1"
   ]
  },
  {
   "cell_type": "code",
   "execution_count": 9,
   "metadata": {},
   "outputs": [
    {
     "data": {
      "text/html": [
       "<div>\n",
       "<style scoped>\n",
       "    .dataframe tbody tr th:only-of-type {\n",
       "        vertical-align: middle;\n",
       "    }\n",
       "\n",
       "    .dataframe tbody tr th {\n",
       "        vertical-align: top;\n",
       "    }\n",
       "\n",
       "    .dataframe thead th {\n",
       "        text-align: right;\n",
       "    }\n",
       "</style>\n",
       "<table border=\"1\" class=\"dataframe\">\n",
       "  <thead>\n",
       "    <tr style=\"text-align: right;\">\n",
       "      <th></th>\n",
       "      <th>values</th>\n",
       "    </tr>\n",
       "  </thead>\n",
       "  <tbody>\n",
       "    <tr>\n",
       "      <th>33333333333_secu</th>\n",
       "      <td>str_4</td>\n",
       "    </tr>\n",
       "  </tbody>\n",
       "</table>\n",
       "</div>"
      ],
      "text/plain": [
       "                 values\n",
       "33333333333_secu  str_4"
      ]
     },
     "execution_count": 9,
     "metadata": {},
     "output_type": "execute_result"
    }
   ],
   "source": [
    "import pandas as pd\n",
    "\n",
    "df = pd.DataFrame(tt1,tt2)\n",
    "df.rename(columns={0:\"values\"}, inplace = True)\n",
    "df"
   ]
  },
  {
   "cell_type": "code",
   "execution_count": null,
   "metadata": {},
   "outputs": [],
   "source": []
  }
 ],
 "metadata": {
  "kernelspec": {
   "display_name": "Python 3",
   "language": "python",
   "name": "python3"
  },
  "language_info": {
   "codemirror_mode": {
    "name": "ipython",
    "version": 3
   },
   "file_extension": ".py",
   "mimetype": "text/x-python",
   "name": "python",
   "nbconvert_exporter": "python",
   "pygments_lexer": "ipython3",
   "version": "3.7.3"
  }
 },
 "nbformat": 4,
 "nbformat_minor": 2
}
