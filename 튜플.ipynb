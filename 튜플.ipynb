{
 "cells": [
  {
   "cell_type": "code",
   "execution_count": 2,
   "metadata": {},
   "outputs": [
    {
     "name": "stdout",
     "output_type": "stream",
     "text": [
      "[1, 2, 3, 4]\n",
      "['a', 'b', 'c', 'd']\n",
      "['d', 'c', 'b', 'a']\n",
      "====================\n",
      "0\n",
      "[1, 1, 2, 3]\n",
      "[1, 2, 1, 2, 3]\n",
      "[2, 1, 2, 3]\n",
      "====================\n",
      "[1, 2]\n",
      "3\n",
      "====================\n",
      "True\n",
      "False\n"
     ]
    }
   ],
   "source": [
    "#정렬\n",
    "a = [1, 4, 2, 3]\n",
    "a.sort()\n",
    "print(a)\n",
    "a = ['a', 'c', 'd', 'b']\n",
    "a.sort()\n",
    "print(a)\n",
    "a.reverse()\n",
    "print(a)\n",
    "print('='*20)\n",
    "#위치 찾기\n",
    "a =[1,2,3]\n",
    "print (a.index(1))\n",
    "\n",
    "#삭제\n",
    "a = [1,2,3,1,2,3]\n",
    "a[1:3] = []\n",
    "print(a)\n",
    "\n",
    "a = [1,2,3,1,2,3]\n",
    "a.remove(3)\n",
    "print(a)\n",
    "\n",
    "del a[0]\n",
    "print(a)\n",
    "\n",
    "print('='*20)\n",
    "\n",
    "#pop\n",
    "a = [1,2,3]\n",
    "b = a.pop()\n",
    "print(a)\n",
    "print(b)\n",
    "\n",
    "print('='*20)\n",
    "\n",
    "#포함 여부\n",
    "\n",
    "a = [1,2,3,4,5]\n",
    "print(2 in a)\n",
    "print(2 not in a)"
   ]
  },
  {
   "cell_type": "markdown",
   "metadata": {},
   "source": [
    "+ 튜플\n",
    "\n",
    "    - 리스트와 거의 유사\n",
    "    - \"( )\" 사용\n",
    "    - 변경 불가\n",
    "    - 리스트보다 속도가 빠르다"
   ]
  },
  {
   "cell_type": "code",
   "execution_count": 3,
   "metadata": {},
   "outputs": [
    {
     "name": "stdout",
     "output_type": "stream",
     "text": [
      "('a', 'b', 'c', 'a')\n",
      "<class 'tuple'>\n",
      "4\n",
      "2\n",
      "2\n",
      "====================\n",
      "['a', 'b', 'c', 'a']\n",
      "['a', 10, 'c', 'a']\n",
      "('a', 10, 'c', 'a')\n",
      "====================\n",
      "10 20 30\n",
      "(20, 10)\n"
     ]
    }
   ],
   "source": [
    "a = ('a','b','c','a')\n",
    "print(a)\n",
    "print(type(a))\n",
    "print(len(a))\n",
    "print(a.count('a'))\n",
    "print(a.index('c'))\n",
    "\n",
    "print('='*20)\n",
    "\n",
    "b = list(a)\n",
    "print(b)\n",
    "b[1] = 10\n",
    "print(b)\n",
    "c = tuple(b)\n",
    "print(c)\n",
    "\n",
    "print('='*20)\n",
    "\n",
    "a,b,c = (10,20,30)\n",
    "print(a,b,c)\n",
    "\n",
    "#swap 알고리즘\n",
    "t1 = (10,20)\n",
    "a,b = t1\n",
    "b, a = a, b\n",
    "\n",
    "t2 = (a,b)\n",
    "\n",
    "print(t2)\n",
    "\n"
   ]
  },
  {
   "cell_type": "markdown",
   "metadata": {},
   "source": [
    "+ dict(dictionary)\n",
    "\n",
    "    - 순서가 없다.\n",
    "    - 키(key)를 이용하여 값을 저장 및 조회\n",
    "    - \"{키 : 값}\" 사용\n",
    "    \n"
   ]
  },
  {
   "cell_type": "code",
   "execution_count": 21,
   "metadata": {},
   "outputs": [
    {
     "name": "stdout",
     "output_type": "stream",
     "text": [
      "김철수\n",
      "0101111111\n",
      "901230\n",
      "dict_keys(['name', 'phone', 'birth'])\n",
      "['name', 'phone', 'birth']\n",
      "dict_values(['김철수', '0101111111', '901230'])\n",
      "dict_items([('name', '김철수'), ('phone', '0101111111'), ('birth', '901230')])\n",
      "('name', '김철수')\n",
      "{'name': '홍길동', 'phone': '0101111111', 'birth': '901230'}\n",
      "{'name': '홍길동', 'phone': '0101111111', 'birth': '901230', 'addr': '서울시 강남구'}\n",
      "{'name': '홍길동', 'phone': '0101111111', 'addr': '서울시 강남구'}\n",
      "{}\n",
      "{'k1': 1, 'k2': 'a,b,c', 'k3': 3.4}\n"
     ]
    }
   ],
   "source": [
    "a = {'name':\"김철수\", 'phone' : '0101111111', 'birth':'901230'}\n",
    "print(a.get('name'))\n",
    "print(a.get('phone'))\n",
    "print(a.get('birth'))\n",
    "print(a.keys())\n",
    "print(list(a.keys()))\n",
    "print(a.values())\n",
    "\n",
    "print(a.items())\n",
    "b = list(a.items())\n",
    "print(b[0])\n",
    "\n",
    "a[\"name\"] = \"홍길동\"\n",
    "print(a)\n",
    "a[\"addr\"] = \"서울시 강남구\"\n",
    "print(a)\n",
    "del a[\"birth\"]\n",
    "print(a)\n",
    "a.clear()\n",
    "print(a)\n",
    "\n",
    "a = dict(k1 =1, k2='a,b,c', k3= 3.4)\n",
    "print(a)"
   ]
  },
  {
   "cell_type": "markdown",
   "metadata": {},
   "source": [
    "+ set\n",
    "    - \"{ }\" 사용\n",
    "    - 순서가 없다.\n",
    "    - 중복 불가\n",
    "    - union(), intersection(), difference()\n",
    "    \n",
    "    "
   ]
  },
  {
   "cell_type": "code",
   "execution_count": 14,
   "metadata": {},
   "outputs": [
    {
     "name": "stdout",
     "output_type": "stream",
     "text": [
      "{1, 2, 3}\n",
      "set의 길이 : 3\n",
      "--------------------\n",
      "교집합 : {4, 5, 6}\n",
      "교집합 : {4, 5, 6}\n",
      "합집합 : {1, 2, 3, 4, 5, 6, 7, 8, 9}\n",
      "합집합 : {1, 2, 3, 4, 5, 6, 7, 8, 9}\n",
      "차집합 : {1, 2, 3}\n",
      "차집합 : {1, 2, 3}\n",
      "--------------------\n",
      "{1, 2, 3, 4, 5, 6, 7, 8}\n",
      "{1, 2, 3, 4, 5, 6, 7, 8, 9}\n",
      "{1, 2, 4, 5, 6, 7, 8, 9}\n",
      "{1, 2, 4, 5, 6, 7, 8, 9}\n",
      "{1, 2, 4, 5, 6, 7, 8, 9}\n",
      "{1, 2, 3, 4}\n"
     ]
    }
   ],
   "source": [
    "a = {1, 2, 3, 1}\n",
    "print(a)\n",
    "print(\"set의 길이 :\" , len(a)) #순서가 없기때문에 index사용불가\n",
    "\n",
    "print('-' * 20)\n",
    "s1 = {1,2,3,4,5,6}\n",
    "s2 = {4,5,6,7,8,9}\n",
    "\n",
    "print(\"교집합 :\",s1 & s2)\n",
    "print(\"교집합 :\",s1.intersection(s2))\n",
    "print(\"합집합 :\",s1 | s2)\n",
    "print(\"합집합 :\",s1.union(s2))\n",
    "print(\"차집합 :\",s1 - s2)\n",
    "print(\"차집합 :\",s1.difference(s2))\n",
    "      \n",
    "print('-' * 20)\n",
    "\n",
    "s1.update({7,8})\n",
    "print(s1)\n",
    "\n",
    "s1.add(9)\n",
    "print(s1)\n",
    "\n",
    "s1.discard(3)\n",
    "print(s1)\n",
    "\n",
    "#삭제 데이터가 없으면 에로 발생\n",
    "s1.add(2)\n",
    "print(s1)\n",
    "s1.remove\n",
    "\n",
    "#삭제(데이터가 없으면 그냥 통관)\n",
    "s1.discard(3)\n",
    "print(s1)\n",
    "\n",
    "a = None\n",
    "a = set()\n",
    "b = [1,2,3,4,4,2]\n",
    "a = set(b)\n",
    "print(a)"
   ]
  },
  {
   "cell_type": "markdown",
   "metadata": {},
   "source": [
    "\n"
   ]
  }
 ],
 "metadata": {
  "kernelspec": {
   "display_name": "Python 3",
   "language": "python",
   "name": "python3"
  },
  "language_info": {
   "codemirror_mode": {
    "name": "ipython",
    "version": 3
   },
   "file_extension": ".py",
   "mimetype": "text/x-python",
   "name": "python",
   "nbconvert_exporter": "python",
   "pygments_lexer": "ipython3",
   "version": "3.7.1"
  }
 },
 "nbformat": 4,
 "nbformat_minor": 2
}
