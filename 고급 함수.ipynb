{
 "cells": [
  {
   "cell_type": "code",
   "execution_count": 21,
   "metadata": {},
   "outputs": [
    {
     "name": "stdout",
     "output_type": "stream",
     "text": [
      "1\n",
      "1\n",
      "1\n"
     ]
    }
   ],
   "source": [
    "# 클로저(Closure)\n",
    "\n",
    "'''\n",
    "함수밖에서 임의의 함수안에서 선언된 지역변수를 계속 참조할 수 있게하는 방법\n",
    "'''\n",
    "\n",
    "def out():\n",
    "    count = 0\n",
    "    def inn():\n",
    "        nonlocal count\n",
    "        count += 1\n",
    "        return count\n",
    "    print(inn())\n",
    "out()\n",
    "out()\n",
    "out()"
   ]
  },
  {
   "cell_type": "code",
   "execution_count": 22,
   "metadata": {},
   "outputs": [
    {
     "name": "stdout",
     "output_type": "stream",
     "text": [
      "1\n",
      "2\n",
      "3\n",
      "1\n",
      "2\n",
      "3\n"
     ]
    }
   ],
   "source": [
    "def outer():\n",
    "    count = 0\n",
    "    def inner():\n",
    "        nonlocal count\n",
    "        count += 1\n",
    "        return count\n",
    "    return inner\n",
    "a = outer()\n",
    "print(a())\n",
    "print(a())\n",
    "print(a())\n",
    "\n",
    "b = outer()\n",
    "print(b())\n",
    "print(b())\n",
    "print(b())"
   ]
  },
  {
   "cell_type": "code",
   "execution_count": 6,
   "metadata": {},
   "outputs": [
    {
     "name": "stdout",
     "output_type": "stream",
     "text": [
      "마우스 총액 : 25000\n",
      "세금 2500.0\n",
      "\n",
      "usb메모리의 총액은  36000\n",
      "세금 :  3600.0\n",
      "\n",
      "연필의 총액은  2000\n",
      "세금 :  100.0\n"
     ]
    }
   ],
   "source": [
    "def outer(tax):\n",
    "    def inner(su, dan):\n",
    "        amount = su * dan * tax\n",
    "        return amount\n",
    "    return inner\n",
    "\n",
    "tax_rate = outer(0.1)\n",
    "mouse = tax_rate(5,5000)\n",
    "print(\"마우스 총액 :\",5*5000)\n",
    "print(\"세금\",mouse)\n",
    "\n",
    "print()\n",
    "\n",
    "usb = tax_rate(3,12000)\n",
    "print('usb메모리의 총액은 ', 3 * 12000)\n",
    "print('세금 : ',usb)\n",
    "\n",
    "print()\n",
    "\n",
    "tax_rate2 = outer(0.05)\n",
    "pencil = tax_rate2(2,1000)\n",
    "print('연필의 총액은 ', 2 * 1000)\n",
    "print('세금 : ',pencil)"
   ]
  },
  {
   "cell_type": "markdown",
   "metadata": {},
   "source": [
    "# 람다 함수\n",
    "\n",
    "    익명함수, 축약함수\n",
    "    lambda 인자,... : 표현식"
   ]
  },
  {
   "cell_type": "code",
   "execution_count": 8,
   "metadata": {},
   "outputs": [
    {
     "name": "stdout",
     "output_type": "stream",
     "text": [
      "5\n"
     ]
    }
   ],
   "source": [
    "def hap(x,y):\n",
    "    return x + y\n",
    "\n",
    "result = hap(2,3)\n",
    "print(result)"
   ]
  },
  {
   "cell_type": "code",
   "execution_count": 10,
   "metadata": {},
   "outputs": [
    {
     "name": "stdout",
     "output_type": "stream",
     "text": [
      "5\n"
     ]
    }
   ],
   "source": [
    "result = (lambda x,y : x + y)(2, 3)\n",
    "print(result)"
   ]
  },
  {
   "cell_type": "code",
   "execution_count": 11,
   "metadata": {},
   "outputs": [
    {
     "name": "stdout",
     "output_type": "stream",
     "text": [
      "5\n"
     ]
    }
   ],
   "source": [
    "aaa = (lambda x,y : x + y)\n",
    "print(aaa(2,3))"
   ]
  },
  {
   "cell_type": "code",
   "execution_count": 12,
   "metadata": {},
   "outputs": [
    {
     "name": "stdout",
     "output_type": "stream",
     "text": [
      "15\n",
      "11\n"
     ]
    }
   ],
   "source": [
    "bbb = lambda a,b = 10: a +b\n",
    "print(bbb(5))\n",
    "print(bbb(5,6))"
   ]
  },
  {
   "cell_type": "code",
   "execution_count": 16,
   "metadata": {},
   "outputs": [
    {
     "name": "stdout",
     "output_type": "stream",
     "text": [
      "1 (2, 3) {'m': 4, 'n': 5}\n"
     ]
    }
   ],
   "source": [
    "# lamda에서는 가변인자를 마지막에 작성\n",
    "ccc = lambda a, *b, **c : print(a,b,c)\n",
    "ccc(1,2,3,m = 4,n = 5)"
   ]
  },
  {
   "cell_type": "code",
   "execution_count": 18,
   "metadata": {},
   "outputs": [
    {
     "name": "stdout",
     "output_type": "stream",
     "text": [
      "[0, 1, 2, 3, 4]\n"
     ]
    }
   ],
   "source": [
    "print(list(filter(lambda a:a<5,range(10))))"
   ]
  },
  {
   "cell_type": "markdown",
   "metadata": {},
   "source": [
    "# decorator(장식자)"
   ]
  },
  {
   "cell_type": "code",
   "execution_count": 20,
   "metadata": {},
   "outputs": [
    {
     "name": "stdout",
     "output_type": "stream",
     "text": [
      "반갑습니다.홍길동\n"
     ]
    }
   ],
   "source": [
    "def make2(fn):\n",
    "    return lambda : \"안녕\" + fn()\n",
    "\n",
    "def make1(fn):\n",
    "    return lambda : \"반갑습니다.\" + fn()\n",
    "\n",
    "def hello():\n",
    "    return '홍길동'\n",
    "\n",
    "a = make1(hello)\n",
    "print(a())\n"
   ]
  },
  {
   "cell_type": "code",
   "execution_count": 22,
   "metadata": {},
   "outputs": [
    {
     "name": "stdout",
     "output_type": "stream",
     "text": [
      "반갑습니다.안녕임꺽정\n"
     ]
    }
   ],
   "source": [
    "@make1\n",
    "@make2\n",
    "\n",
    "def hello2():\n",
    "    return '임꺽정'\n",
    "\n",
    "b = hello2()\n",
    "print(b)"
   ]
  },
  {
   "cell_type": "code",
   "execution_count": 6,
   "metadata": {},
   "outputs": [
    {
     "name": "stdout",
     "output_type": "stream",
     "text": [
      "결과는 7\n"
     ]
    }
   ],
   "source": [
    "def outer(func):\n",
    "    def inner(no1,no2):\n",
    "        print(\"결과는 {0}\".format(func(no1,no2)))\n",
    "    return inner\n",
    "\n",
    "@outer\n",
    "def func(n1,n2):\n",
    "    return n1 + n2\n",
    "\n",
    "func(3, 4)"
   ]
  },
  {
   "cell_type": "code",
   "execution_count": null,
   "metadata": {},
   "outputs": [],
   "source": [
    "print(__name__)"
   ]
  },
  {
   "cell_type": "code",
   "execution_count": 1,
   "metadata": {
    "scrolled": true
   },
   "outputs": [
    {
     "data": {
      "text/plain": [
       "['C:\\\\pratice\\\\pythonwork',\n",
       " 'C:\\\\Users\\\\acorn\\\\Anaconda3\\\\python37.zip',\n",
       " 'C:\\\\Users\\\\acorn\\\\Anaconda3\\\\DLLs',\n",
       " 'C:\\\\Users\\\\acorn\\\\Anaconda3\\\\lib',\n",
       " 'C:\\\\Users\\\\acorn\\\\Anaconda3',\n",
       " '',\n",
       " 'C:\\\\Users\\\\acorn\\\\Anaconda3\\\\lib\\\\site-packages',\n",
       " 'C:\\\\Users\\\\acorn\\\\Anaconda3\\\\lib\\\\site-packages\\\\win32',\n",
       " 'C:\\\\Users\\\\acorn\\\\Anaconda3\\\\lib\\\\site-packages\\\\win32\\\\lib',\n",
       " 'C:\\\\Users\\\\acorn\\\\Anaconda3\\\\lib\\\\site-packages\\\\Pythonwin',\n",
       " 'C:\\\\Users\\\\acorn\\\\Anaconda3\\\\lib\\\\site-packages\\\\IPython\\\\extensions',\n",
       " 'C:\\\\Users\\\\acorn\\\\.ipython']"
      ]
     },
     "execution_count": 1,
     "metadata": {},
     "output_type": "execute_result"
    }
   ],
   "source": [
    "import sys\n",
    "sys.path"
   ]
  },
  {
   "cell_type": "code",
   "execution_count": 5,
   "metadata": {
    "scrolled": true
   },
   "outputs": [
    {
     "name": "stdout",
     "output_type": "stream",
     "text": [
      "this is test...\n"
     ]
    }
   ],
   "source": [
    "import sys\n",
    "sys.path.append(r'C:\\pratice\\pythonmodule',)\n",
    "\n",
    "import mymodule3\n",
    "mymodule2.myfunc()"
   ]
  },
  {
   "cell_type": "code",
   "execution_count": 1,
   "metadata": {},
   "outputs": [
    {
     "name": "stdout",
     "output_type": "stream",
     "text": [
      "this is test...\n"
     ]
    }
   ],
   "source": [
    "import mymodule4\n",
    "mymodule4.myfunc()"
   ]
  },
  {
   "cell_type": "code",
   "execution_count": null,
   "metadata": {},
   "outputs": [],
   "source": []
  }
 ],
 "metadata": {
  "kernelspec": {
   "display_name": "Python 3",
   "language": "python",
   "name": "python3"
  },
  "language_info": {
   "codemirror_mode": {
    "name": "ipython",
    "version": 3
   },
   "file_extension": ".py",
   "mimetype": "text/x-python",
   "name": "python",
   "nbconvert_exporter": "python",
   "pygments_lexer": "ipython3",
   "version": "3.7.1"
  }
 },
 "nbformat": 4,
 "nbformat_minor": 2
}
