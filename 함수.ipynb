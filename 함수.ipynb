{
 "cells": [
  {
   "cell_type": "markdown",
   "metadata": {},
   "source": [
    "# 함수(function)\n",
    "\n",
    "## 1.함수의 정의 : 일정한 작업을 수행하는 코드 블럭\n",
    "\n",
    "## 2.함수의 장점\n",
    "\n",
    "    1) 반복적인 코드를 없애주어 코드의 길이를 짧게 만들어준다.\n",
    "    2) 프로그램의 유지보수를 쉽게 만들어준다.\n",
    "    \n",
    "## 3.함수의 정의\n",
    "    \n",
    "    def 함수명(매개변수):\n",
    "        기능 정의\n",
    "        ...\n",
    "        \n",
    "        [return ...]-생략가능\n",
    "        \n",
    "## 4.함수의 호출 방식\n",
    "\n",
    "    1) 인자가 없는 방식\n",
    "    \n",
    "    2) 인자가 있는 방식\n",
    "    \n",
    "    3) 반환값의 여부 : return\n",
    "        -함수에서 처리된 값을 반환\n",
    "        -함수의 강제 종료\n",
    "        "
   ]
  },
  {
   "cell_type": "code",
   "execution_count": 11,
   "metadata": {},
   "outputs": [
    {
     "name": "stdout",
     "output_type": "stream",
     "text": [
      "********************\n",
      "반환된 결과 :  20\n",
      "\t채팅 프로그램\n",
      "----------------------------------------\n",
      "1.방 만들기\n",
      "1.나가기\n",
      "==============================\n",
      "8\n"
     ]
    }
   ],
   "source": [
    "#함수\n",
    "\n",
    "#인자가 없는 방식\n",
    "def line(cnt,type):#매개변수\n",
    "    for i in range(cnt):\n",
    "        print(type,end=\"\")\n",
    "    print()\n",
    "    return cnt\n",
    "        \n",
    "result = line(20,'*')#실인자(argument)\n",
    "print(\"반환된 결과 : \", result)\n",
    "print(\"\\t채팅 프로그램\")\n",
    "line(40,'-')\n",
    "print(\"1.방 만들기\")\n",
    "print(\"1.나가기\")\n",
    "line(30,'=')\n",
    "\n",
    "#인자가 있는 방식, 반환값의 여부\n",
    "def Numsum(a,b):\n",
    "    return a + b\n",
    "\n",
    "print(Numsum(3,5))"
   ]
  },
  {
   "cell_type": "code",
   "execution_count": 6,
   "metadata": {},
   "outputs": [
    {
     "name": "stdout",
     "output_type": "stream",
     "text": [
      "두 수의 교환\n",
      "결과 : 10,4\n"
     ]
    }
   ],
   "source": [
    "def swap(n1,n2):\n",
    "    n3 = n1\n",
    "    n1 = n2\n",
    "    n2 = n3\n",
    "    return (n1,n2)\n",
    "    \n",
    "print(\"두 수의 교환\")\n",
    "num1,num2 = swap(4,10)\n",
    "print(\"결과 : {},{}\".format(num1,num2))"
   ]
  },
  {
   "cell_type": "markdown",
   "metadata": {},
   "source": [
    "# 파이썬 함수의 특징\n"
   ]
  },
  {
   "cell_type": "code",
   "execution_count": 20,
   "metadata": {},
   "outputs": [
    {
     "name": "stdout",
     "output_type": "stream",
     "text": [
      "전국 대표\n",
      "함수 내부 :  손흥민 지역 대표\n",
      "지역 대표\n"
     ]
    }
   ],
   "source": [
    "#변수의 생존 범위(유효범위) : 전역변수, 지역변수\n",
    "player = \"전국 대표\"\n",
    "\n",
    "# def funcSoccer():\n",
    "#     name = '손흥민'\n",
    "#     player = \"지역 대표\"\n",
    "#     print(\"함수 내부 : \",name,player)\n",
    "\n",
    "def funcSoccer():\n",
    "    global player\n",
    "    \n",
    "    name = '손흥민'\n",
    "    player = \"지역 대표\"\n",
    "    print(\"함수 내부 : \",name,player)\n",
    "\n",
    "print(player)\n",
    "funcSoccer()\n",
    "print(player)\n",
    "    "
   ]
  },
  {
   "cell_type": "code",
   "execution_count": 41,
   "metadata": {},
   "outputs": [
    {
     "name": "stdout",
     "output_type": "stream",
     "text": [
      "안녕하세요~ 서우석\n",
      "반드시 이름을 입력하세요\n",
      "안녕하세요. 서우석님! 당신의 나이는 26세 입니다.\n"
     ]
    }
   ],
   "source": [
    "#default 인수\n",
    "\n",
    "# def hello(name = \"메롱\"): #매개변수에 기본값을 준다.(default)\n",
    "#     print(\"안녕하세요~\",name)\n",
    "    \n",
    "\n",
    "def hello(name = None):\n",
    "    if name == None:\n",
    "        print(\"반드시 이름을 입력하세요\")\n",
    "        return\n",
    "    else:\n",
    "        print(\"안녕하세요~\",name)\n",
    "        \n",
    "def hello2(name,age): #default변수는 맨뒤의 매개변수부터 채우자!\n",
    "    print(\"안녕하세요. {}님! 당신의 나이는 {}세 입니다.\".format(name,age))\n",
    "    \n",
    "\n",
    "hello('서우석')\n",
    "hello()\n",
    "hello2(name = '서우석',age = 26)"
   ]
  },
  {
   "cell_type": "code",
   "execution_count": 60,
   "metadata": {},
   "outputs": [
    {
     "name": "stdout",
     "output_type": "stream",
     "text": [
      "홍길동 님 환영합니다.\n",
      "홍길동 님 환영합니다.\n",
      "임꺽정 님 환영합니다.\n",
      "홍길동 님 환영합니다.\n",
      "임꺽정 님 환영합니다.\n",
      "Scott 님 환영합니다.\n",
      "========================================\n",
      "<class 'tuple'>\n",
      "<class 'tuple'>\n",
      "<class 'tuple'>\n",
      "Scott 님 환영합니다.\n"
     ]
    }
   ],
   "source": [
    "#가변 인수\n",
    "\n",
    "def greeting(name):\n",
    "    for i in name:\n",
    "        print(i, \"님 환영합니다.\")\n",
    "\n",
    "def greeting2(weight = '120' ,height = '29',*name):\n",
    "    print(type(name))\n",
    "    for i in name:\n",
    "        print(i, \"님 환영합니다.\")\n",
    "        \n",
    "\n",
    "greeting([\"홍길동\"])\n",
    "greeting([\"홍길동\",\"임꺽정\"])\n",
    "greeting([\"홍길동\",\"임꺽정\",\"Scott\"])\n",
    "\n",
    "print('='*40)\n",
    "\n",
    "greeting2(\"홍길동\")\n",
    "greeting2(\"홍길동\",\"임꺽정\")\n",
    "greeting2(\"홍길동\",\"임꺽정\",\"Scott\")"
   ]
  },
  {
   "cell_type": "code",
   "execution_count": 63,
   "metadata": {},
   "outputs": [
    {
     "name": "stdout",
     "output_type": "stream",
     "text": [
      "50 170\n",
      "{'irum': '홍길동', 'age': 20, 'addr': '서울시'}\n"
     ]
    }
   ],
   "source": [
    "def info(w,h,**other): #**개는 dict형을 받기 위한 집합 자료형\n",
    "    print(w,h)\n",
    "    print(other)\n",
    "    \n",
    "info(50,170,irum='홍길동',age = 20, addr=\"서울시\")"
   ]
  },
  {
   "cell_type": "code",
   "execution_count": 65,
   "metadata": {},
   "outputs": [
    {
     "name": "stdout",
     "output_type": "stream",
     "text": [
      "{'name': '홍길동', 'job': 'pd', 'age': 30}\n"
     ]
    }
   ],
   "source": [
    "def set_person(name,job,age):\n",
    "    person = {'name' : name, 'job' : job, 'age' : age}\n",
    "    return person\n",
    "\n",
    "result = set_person(\"홍길동\",\"pd\",30)\n",
    "print(result)"
   ]
  },
  {
   "cell_type": "markdown",
   "metadata": {},
   "source": [
    "# 내장함수"
   ]
  },
  {
   "cell_type": "code",
   "execution_count": 28,
   "metadata": {
    "scrolled": true
   },
   "outputs": [
    {
     "name": "stdout",
     "output_type": "stream",
     "text": [
      "20\n",
      "20 40 60 80 \n",
      "[20, 40, 60, 80]\n",
      "-------------------------------\n",
      "[20, 40, 60, 80]\n",
      "[(1, 4, 7), (2, 5, 8), (3, 6, 9)]\n"
     ]
    }
   ],
   "source": [
    "#---------------------------\n",
    "#all() , any()   all() = and , any() = or\n",
    "#---------------------------\n",
    "\n",
    "# a = [1,2,3]\n",
    "# b = [1,2,3,0]\n",
    "# c = [0,\"\",None]\n",
    "# print(all(a))\n",
    "# print(all(b))\n",
    "# print(any(a))\n",
    "# print(any(b))\n",
    "# print(any(c))\n",
    "\n",
    "#---------------------------\n",
    "#divmod(a,b) #몫과 나머지를 튜플\n",
    "#---------------------------\n",
    "\n",
    "# a = divmod(7,3)\n",
    "# b = divmod(1.3,0.2)\n",
    "# print(a)\n",
    "# print(b)\n",
    "\n",
    "#----------------------------------------------------------------------\n",
    "#enumerate(iterator) : 순서가 있는 자료형을 입력받아 인덱스 값을 포함해서 리턴\n",
    "#----------------------------------------------------------------------\n",
    "\n",
    "# for i,data in enumerate([\"홍길동\",\"임꺽정\",\"알파go\",\"알파back\"]): #텍스트마이닝할때 쓰임\n",
    "#     print(i,data)\n",
    "\n",
    "#------------------\n",
    "#eval(expression) # 표현식을 파이썬에서 실행 가능하게 만들어주는 역할\n",
    "#------------------\n",
    "\n",
    "# print(\"3+4\")\n",
    "# print(eval(\"3+4\")) #결과값 7 출력\n",
    "# print(eval(\"3\") + eval(\"4\"))\n",
    "\n",
    "# exp = input(\"수식을 입력 :\")\n",
    "# print(eval(exp))\n",
    "\n",
    "# print(eval(\"divmod(9,4)\"))\n",
    "\n",
    "#---------------------------\n",
    "#map(function, iterable) #집합의 각 요소가 함수에 의해 수행된 결과를 묶어서 리턴\n",
    "#---------------------------\n",
    "\n",
    "def calc(x):\n",
    "    return x*2\n",
    "\n",
    "a = calc(10)\n",
    "print(a)\n",
    "\n",
    "b = []\n",
    "for i in [10,20,30,40]:\n",
    "    a = calc(i)\n",
    "    print(a, end=\" \")\n",
    "    b.append(a)\n",
    "print()\n",
    "\n",
    "print(b)\n",
    "print(\"-------------------------------\")\n",
    "print(list(map(calc,[10,20,30,40])))\n",
    "\n",
    "#---------------------------\n",
    "#zip(iterable) #동일한 갯수로 이루어진 자료형을 묶어주는 역할\n",
    "#---------------------------\n",
    "\n",
    "list1 = [1,2,3]\n",
    "list2 = [4,5,6]\n",
    "list3 = [7,8,9]\n",
    "\n",
    "a = list(zip(list1,list2,list3))\n",
    "print(a)"
   ]
  },
  {
   "cell_type": "markdown",
   "metadata": {},
   "source": [
    "## 외장함수"
   ]
  },
  {
   "cell_type": "code",
   "execution_count": 47,
   "metadata": {},
   "outputs": [
    {
     "name": "stdout",
     "output_type": "stream",
     "text": [
      "안녕하세요...\n",
      "모듈이예요\n"
     ]
    }
   ],
   "source": [
    "#sys\n",
    "#----------------------------\n",
    "# import sys\n",
    "# print(sys.path)\n",
    "# #sys.exit()\n",
    "# dir(sys)\n",
    "# sys.platform\n",
    "# sys.version\n",
    "\n",
    "#----------------------------\n",
    "#math\n",
    "#----------------------------\n",
    "\n",
    "# import math\n",
    "# dir(math)\n",
    "# print(math.pi)\n",
    "\n",
    "#----------------------------\n",
    "#os\n",
    "#----------------------------\n",
    "\n",
    "# import os\n",
    "# print(os.getcwd())\n",
    "\n",
    "#----------------------------\n",
    "#random\n",
    "#----------------------------\n",
    "\n",
    "# import random\n",
    "# print(random.random())\n",
    "# print(random.randrange(1,10))\n",
    "\n",
    "#----------------------------\n",
    "#mymodule\n",
    "#----------------------------\n",
    "# import mymodule\n",
    "# mymodule.display()\n",
    "# mymodule.sum(3,5)\n",
    "\n",
    "from mymodule import display\n",
    "display()"
   ]
  },
  {
   "cell_type": "code",
   "execution_count": 51,
   "metadata": {},
   "outputs": [
    {
     "data": {
      "text/plain": [
       "'\\nPhoneBook.py 프로그램을 작성한다.\\n데이터 준비\\n홍길동, 010-111-1111,서울시 강남구\\n홍길동, 010-111-1111,서울시 강남구\\n'"
      ]
     },
     "execution_count": 51,
     "metadata": {},
     "output_type": "execute_result"
    }
   ],
   "source": [
    "## 명령행 인자(Command Line Argument)\n",
    "\n",
    "# import sys\n",
    "# arg = sys.argv[1]\n",
    "# print(\"명령행 인자 :\",arg)\n",
    "\n",
    "'''\n",
    "PhoneBook.py 프로그램을 작성한다.\n",
    "데이터 준비\n",
    "    홍길동1, 010-111-1111,서울시 강남구\n",
    "    홍길동2, 010-111-1111,서울시 강남구\n",
    "    홍길동3, 010-111-1111,서울시 강남구\n",
    "\n",
    "프로그램 실행 결과\n",
    "python PhoneBook.py 임꺽정\n",
    "이름 : 임꺽정\n",
    "전화번호 : 010-111-1111\n",
    "주소 : 서울시 강남구\n",
    "'''"
   ]
  },
  {
   "cell_type": "code",
   "execution_count": 75,
   "metadata": {
    "scrolled": true
   },
   "outputs": [
    {
     "name": "stdout",
     "output_type": "stream",
     "text": [
      "2019-03-19 , 2019 , 3 , 19\n",
      "2019-03-19 12:46:13.568522\n",
      "-1 day, 0:00:00\n",
      "어제 : 2019-03-18\n",
      "-1 57600\n",
      "2019-03-19 04:46:13.568522\n",
      "03/19/2019\n",
      "2019-46-19 12:46:13\n",
      "<class 'datetime.datetime'>\n",
      "<class 'str'>\n",
      "<class 'str'>\n",
      "<class 'datetime.datetime'>\n"
     ]
    }
   ],
   "source": [
    "#날짜 관련 함수들\n",
    "from datetime import date,datetime,timedelta\n",
    "\n",
    "#오늘날짜\n",
    "today = date.today()\n",
    "print(today,\",\",today.year,\",\",today.month,\",\",today.day)\n",
    "\n",
    "#시간\n",
    "ctime = datetime.today()\n",
    "print(ctime)\n",
    "\n",
    "#날짜와 시간계산\n",
    "# timedelta?\n",
    "mydays = timedelta(days=-1)\n",
    "print(mydays)\n",
    "print(\"어제 : {}\".format(today+mydays))\n",
    "\n",
    "myhours = timedelta(hours = -8)\n",
    "print(myhours.days, myhours.seconds)\n",
    "print(\"{}\".format(ctime + myhours))\n",
    "\n",
    "#날짜 형식\n",
    "print(\"{}\".format(today.strftime(\"%m/%d/%Y\")))\n",
    "print(\"{}\".format(ctime.strftime(\"%Y-%M-%d %H:%M:%S\")))\n",
    "\n",
    "#형식 변환(strftime(),strptime()-문자열을 날짜)\n",
    "print(type(ctime))\n",
    "d = ctime.strftime(\"%Y-%M-%D %H:%M:%S\")\n",
    "print(type(d))\n",
    "\n",
    "strDate = \"2019-3-19 12:41:50\"\n",
    "print(type(strDate))\n",
    "mydate = datetime.strptime(strDate,\"%Y-%m-%d %H:%M:%S\")\n",
    "print(type(mydate))"
   ]
  },
  {
   "cell_type": "markdown",
   "metadata": {},
   "source": [
    "## 파일 처리 \n",
    "    \n",
    "    1) open(파일명(경로 포함),모드)\n",
    "        - mode : r, w, a, rb, wb, ab\n",
    "        \n",
    "    2) close()\n",
    "    \n",
    "    3) 순차접근방식\n",
    "        예외적으로 임의 접근 지원 : seek(위치), tell()\n",
    "    "
   ]
  },
  {
   "cell_type": "code",
   "execution_count": 27,
   "metadata": {},
   "outputs": [
    {
     "name": "stdout",
     "output_type": "stream",
     "text": [
      "<class 'str'>\n",
      "abcdefghijk\n",
      "가나다라마바사아\n"
     ]
    }
   ],
   "source": [
    "f = open('filetest.txt',mode = 'r',encoding = 'utf-8')\n",
    "# line = f.readline()\n",
    "# print(line)\n",
    "\n",
    "#readline() : 한줄씩 문자열로 읽어들임\n",
    "# while True:\n",
    "#     line = f.readline()\n",
    "#     if not line : \n",
    "#         break\n",
    "#     print(line)\n",
    "# f.close()\n",
    "\n",
    "#readlines() : 모든행을 한꺼번에 읽어서 각각의 행을 요소로 갖는 리스트형으로 반환\n",
    "# lines = f.readlines()\n",
    "# print(type(lines))\n",
    "# for i in lines:\n",
    "#     print(i)\n",
    "# f.close()\n",
    "\n",
    "#read()\n",
    "data = f.read()\n",
    "print(type(data))\n",
    "\n",
    "print(data)\n",
    "f.close()"
   ]
  },
  {
   "cell_type": "code",
   "execution_count": 37,
   "metadata": {},
   "outputs": [],
   "source": [
    "f = open(\"filetest2.txt\",mode = \"w\")\n",
    "for i in range(10):\n",
    "    data = \"안녕....%d\\n\" %i\n",
    "    f.write(data)\n",
    "f.close()"
   ]
  },
  {
   "cell_type": "code",
   "execution_count": 44,
   "metadata": {},
   "outputs": [],
   "source": [
    "f = open(\"filetest2.txt\",mode = \"a\")\n",
    "for i in range(10,20):\n",
    "    data = \"안녕....%d\\n\" %i\n",
    "    f.write(data)\n",
    "f.close()"
   ]
  },
  {
   "cell_type": "code",
   "execution_count": 85,
   "metadata": {},
   "outputs": [],
   "source": [
    "#csv 형식으로 저장\n",
    "nums = [0,1,2,3,4,5,6,7,8,9]\n",
    "count = len(nums)\n",
    "# f = open(\"result.csv\",mode = \"a\")\n",
    "# for i in range(count):\n",
    "#     if i < count-1:\n",
    "#         f.write(str(nums[i]) + \",\")\n",
    "#     else:\n",
    "#         f.write(str(nums[i]) + \"\\n\")\n",
    "# f.close()\n",
    "\n",
    "with open(\"result.csv\",mode = \"a\") as f:\n",
    "    for i in range(count):\n",
    "        if i < count-1:\n",
    "            f.write(str(nums[i]) + \",\")\n",
    "        else:\n",
    "            f.write(str(nums[i]) + \"\\n\")"
   ]
  },
  {
   "cell_type": "code",
   "execution_count": 125,
   "metadata": {},
   "outputs": [
    {
     "name": "stdout",
     "output_type": "stream",
     "text": [
      "abcdefghijk\n",
      "가나다라마바사아\n",
      "파일 포인터 : 37\n",
      "파일 포인터 : 0\n",
      "abcdefghijk\n",
      "\n"
     ]
    }
   ],
   "source": [
    "#임의 접근\n",
    "with open(\"filetest.txt\",mode = 'r',encoding = 'utf-8') as f:\n",
    "    for i in f:\n",
    "        print(i, end = \"\")\n",
    "    print()\n",
    "    print('파일 포인터 : %d' %f.tell())\n",
    "    \n",
    "    #(이동할위치, 기준위치)\n",
    "    #기준위치 : 0(default,파일의 시작위치),1(파일의 현재위치),2(파일의 끝 위치)\n",
    "    f.seek(0.0)\n",
    "    print('파일 포인터 : %d' %f.tell())\n",
    "    line = f.readline()\n",
    "    print(line)"
   ]
  },
  {
   "cell_type": "code",
   "execution_count": 4,
   "metadata": {},
   "outputs": [
    {
     "name": "stdout",
     "output_type": "stream",
     "text": [
      "제어문.ipynb\n"
     ]
    }
   ],
   "source": [
    "# 파일 목록\n",
    "import glob\n",
    "#files = glob.glob(\"*\")\n",
    "#files = glob.glob(\"*.ipynb\")\n",
    "files = glob.glob(\"???.ipynb\") #???인덱스 수 \n",
    "for i in files:\n",
    "    print(i)"
   ]
  },
  {
   "cell_type": "markdown",
   "metadata": {},
   "source": [
    "# 재귀함수(recursive function)"
   ]
  },
  {
   "cell_type": "code",
   "execution_count": 2,
   "metadata": {},
   "outputs": [
    {
     "name": "stdout",
     "output_type": "stream",
     "text": [
      "54321완료\n"
     ]
    }
   ],
   "source": [
    "def countDown(n):\n",
    "    if n == 0:\n",
    "        print(\"완료\")\n",
    "    else: \n",
    "        print(n, end= '')\n",
    "        countDown(n-1)\n",
    "        \n",
    "countDown(5)"
   ]
  },
  {
   "cell_type": "code",
   "execution_count": 1,
   "metadata": {},
   "outputs": [
    {
     "name": "stdout",
     "output_type": "stream",
     "text": [
      "5\n",
      "4\n",
      "3\n",
      "2\n"
     ]
    },
    {
     "data": {
      "text/plain": [
       "120"
      ]
     },
     "execution_count": 1,
     "metadata": {},
     "output_type": "execute_result"
    }
   ],
   "source": [
    "def factorial(n):\n",
    "    if n == 1:\n",
    "        return 1\n",
    "    \n",
    "    print(n)\n",
    "    \n",
    "    return n * factorial(n-1)\n",
    "    \n",
    "factorial(5)"
   ]
  },
  {
   "cell_type": "code",
   "execution_count": null,
   "metadata": {},
   "outputs": [],
   "source": [
    "a = []\n",
    "for i in range(5):\n",
    "    b = int(input('숫자 : '))\n",
    "    a.append(b)\n",
    "    \n",
    "print(type(a))\n",
    "print('최대값',max(a))\n",
    "print('최대값',min(a))"
   ]
  },
  {
   "cell_type": "code",
   "execution_count": 136,
   "metadata": {},
   "outputs": [
    {
     "name": "stdout",
     "output_type": "stream",
     "text": [
      "take1\n",
      "large size 피자를 주문하셨습니다.\n",
      "토핑 :  더블크러스트\n",
      "-----------------------------------\n",
      "midium size 피자를 주문하셨습니다.\n",
      "토핑 : 파인애플 , 버섯 , 토마토\n",
      "-----------------------------------\n",
      "take2\n",
      "large size 피자를 주문하셨습니다.\n",
      "토핑 :  더블크러스트\n",
      "-----------------------------------\n",
      "midium size 피자를 주문하셨습니다.\n",
      "토핑 : 파인애플,버섯,토마토\n",
      "\n",
      "-----------------------------------\n",
      "take3\n",
      "large size 피자를 주문하셨습니다.\n",
      "토핑 :  더블크러스트\n",
      "-----------------------------------\n",
      "medium size 피자를 주문하셨습니다.\n",
      "토핑 : 파인애플,버섯,토마토\n",
      "\n",
      "-----------------------------------\n"
     ]
    }
   ],
   "source": [
    "#예제\n",
    "\n",
    "'''\n",
    "large size  피자를 주문하셨습니다.\n",
    "토핑 : 더블 크러스트\n",
    "'''\n",
    "'''\n",
    "midium size 피자를 주문하셨습니다.\n",
    "토핑 : 파인애플,버섯,토마토\n",
    "'''\n",
    "print(\"take1\")\n",
    "\n",
    "def order(*order):\n",
    "    for i in order:\n",
    "        print(i[0],\"size 피자를 주문하셨습니다.\")\n",
    "        print(\"토핑 : \",i[1])\n",
    "    \n",
    "order([\"large\",\"더블크러스트\"])\n",
    "\n",
    "print(\"-----------------------------------\")\n",
    "\n",
    "def order(*order):\n",
    "    for i in order:\n",
    "        print(i[0],\"size 피자를 주문하셨습니다.\")\n",
    "        print(\"토핑 :\",i[1] ,\",\",i[2],\",\",i[3])\n",
    "    \n",
    "order([\"midium\",\"파인애플\",\"버섯\",\"토마토\"])\n",
    "print(\"-----------------------------------\")\n",
    "\n",
    "print(\"take2\")\n",
    "\n",
    "def order(*order):\n",
    "    for i in order:\n",
    "        if(i == 'large'):\n",
    "            print(i,\"size 피자를 주문하셨습니다.\")\n",
    "        else:\n",
    "            print(\"토핑 : \",i)\n",
    "order(\"large\",\"더블크러스트\")\n",
    "\n",
    "print(\"-----------------------------------\")\n",
    "\n",
    "def order(*order):\n",
    "    for i in range(len(order)):\n",
    "        if(i == 0):\n",
    "            print(order[i],\"size 피자를 주문하셨습니다.\")\n",
    "            print(\"토핑 : \",end = \"\")\n",
    "        else:\n",
    "            if(i < len(order)-1):\n",
    "                print(order[i],end = \",\")\n",
    "            else:\n",
    "                print(order[i],end = \"\\n\")\n",
    "    print()\n",
    "order(\"midium\",\"파인애플\",\"버섯\",\"토마토\")\n",
    "\n",
    "print(\"-----------------------------------\")\n",
    "\n",
    "print(\"take3\")\n",
    "\n",
    "def order(size,menu):\n",
    "    print(size,\"size 피자를 주문하셨습니다.\")\n",
    "    print(\"토핑 : \",menu)\n",
    "a = {'size' : 'large','menu' : '더블크러스트'}\n",
    "size = a.pop('size')\n",
    "menu = a.pop('menu')\n",
    "order(size,menu)\n",
    "\n",
    "print(\"-----------------------------------\")\n",
    "\n",
    "def order(size,menu):\n",
    "    print(size,\"size 피자를 주문하셨습니다.\")\n",
    "    print(\"토핑 : \",end = \"\")\n",
    "    for i in range(len(menu)):\n",
    "            if(i < len(menu)-1):\n",
    "                print(menu[i],end = \",\")\n",
    "            else:\n",
    "                print(menu[i],end = \"\\n\")\n",
    "    print()\n",
    "a = {'size' : 'medium','menu' : ['파인애플',\"버섯\",\"토마토\"]}\n",
    "size = a.pop('size')\n",
    "menu = a.pop('menu')\n",
    "order(size,menu)\n",
    "print(\"-----------------------------------\")"
   ]
  },
  {
   "cell_type": "code",
   "execution_count": null,
   "metadata": {},
   "outputs": [],
   "source": [
    "for i range(2):\n",
    "    if a == open('filetest%d.txt',mode = 'a',encoding = 'utp-8' %i):\n",
    "        \n",
    "    \n"
   ]
  },
  {
   "cell_type": "code",
   "execution_count": null,
   "metadata": {},
   "outputs": [],
   "source": []
  }
 ],
 "metadata": {
  "kernelspec": {
   "display_name": "Python 3",
   "language": "python",
   "name": "python3"
  },
  "language_info": {
   "codemirror_mode": {
    "name": "ipython",
    "version": 3
   },
   "file_extension": ".py",
   "mimetype": "text/x-python",
   "name": "python",
   "nbconvert_exporter": "python",
   "pygments_lexer": "ipython3",
   "version": "3.7.1"
  }
 },
 "nbformat": 4,
 "nbformat_minor": 2
}
