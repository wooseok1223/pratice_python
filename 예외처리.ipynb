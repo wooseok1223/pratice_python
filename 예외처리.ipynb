{
 "cells": [
  {
   "cell_type": "markdown",
   "metadata": {},
   "source": [
    "## 예외처리를 하는 이유\n",
    "\n",
    "    1. 자연스러운 에러 메세지를 출력\n",
    "    2. 프로그램의 비정상적인 종료를 방지\n",
    "    \n",
    "### 문법\n",
    "\n",
    "    try :\n",
    "    \n",
    "        문장(일반 코드)\n",
    "        ...\n",
    "    \n",
    "    except 예외처리 클래스 :\n",
    "        문장(예외가 발생했을때 실행될 코드)\n",
    "        ...\n",
    "      \n",
    "    else:\n",
    "        문장(예외가 발생하지 않았을 경우 작성될 코드)\n",
    "        ...\n",
    "        \n",
    "    [\n",
    "    finally:\n",
    "        문장(예외 발생과는 무관하게 실행될 코드)\n",
    "    ]\n",
    "    \n",
    "### 오류를 일부러 발생 : raise\n",
    "    1) except에 대한  test\n",
    "    2) 사용자 정의 예외처리 클래스"
   ]
  },
  {
   "cell_type": "code",
   "execution_count": 26,
   "metadata": {},
   "outputs": [
    {
     "name": "stdout",
     "output_type": "stream",
     "text": [
      "3.3333333333333335\n",
      "5\n",
      "에러 없음\n",
      "무조건 실행되는 문장\n",
      "0으로 나누면 안됩니다.\n",
      "무조건 실행되는 문장\n"
     ]
    }
   ],
   "source": [
    "import sys\n",
    "\n",
    "def test(num):\n",
    "    try:\n",
    "        a = 10/num\n",
    "        print(a)\n",
    "        \n",
    "        b = [1,2,3,4,5]\n",
    "        print(b[4])\n",
    "        \n",
    "    except IndexError as e:\n",
    "        print('index error',e)\n",
    "        return\n",
    "    except ZeroDivisionError as e:\n",
    "        print('0으로 나누면 안됩니다.')\n",
    "        return\n",
    "        sys.exit()\n",
    "    except Exception:\n",
    "        print('일반오류')\n",
    "        return\n",
    "    else:\n",
    "        print(\"에러 없음\")\n",
    "        return\n",
    "    finally:\n",
    "        print('무조건 실행되는 문장')\n",
    "        \n",
    "    print('gg')\n",
    "test(3)\n",
    "test(0)"
   ]
  },
  {
   "cell_type": "code",
   "execution_count": null,
   "metadata": {},
   "outputs": [],
   "source": [
    "def test(num):\n",
    "    a = 10/num\n",
    "    print(a)\n",
    "        \n",
    "    b = [1,2,3]\n",
    "    print(b[4])\n",
    "    \n",
    "test(2)        "
   ]
  },
  {
   "cell_type": "code",
   "execution_count": 30,
   "metadata": {},
   "outputs": [
    {
     "name": "stdout",
     "output_type": "stream",
     "text": [
      "division by zero\n"
     ]
    },
    {
     "ename": "AttributeError",
     "evalue": "module 'traceback' has no attribute 'print_exec'",
     "output_type": "error",
     "traceback": [
      "\u001b[1;31m---------------------------------------------------------------------------\u001b[0m",
      "\u001b[1;31mZeroDivisionError\u001b[0m                         Traceback (most recent call last)",
      "\u001b[1;32m<ipython-input-30-e498a145b6ee>\u001b[0m in \u001b[0;36mthird\u001b[1;34m()\u001b[0m\n\u001b[0;32m      4\u001b[0m     \u001b[1;32mtry\u001b[0m\u001b[1;33m:\u001b[0m\u001b[1;33m\u001b[0m\u001b[1;33m\u001b[0m\u001b[0m\n\u001b[1;32m----> 5\u001b[1;33m         \u001b[0ma\u001b[0m \u001b[1;33m=\u001b[0m \u001b[1;36m10\u001b[0m\u001b[1;33m/\u001b[0m\u001b[1;36m0\u001b[0m\u001b[1;33m\u001b[0m\u001b[1;33m\u001b[0m\u001b[0m\n\u001b[0m\u001b[0;32m      6\u001b[0m         \u001b[0mprint\u001b[0m\u001b[1;33m(\u001b[0m\u001b[0ma\u001b[0m\u001b[1;33m)\u001b[0m\u001b[1;33m\u001b[0m\u001b[1;33m\u001b[0m\u001b[0m\n",
      "\u001b[1;31mZeroDivisionError\u001b[0m: division by zero",
      "\nDuring handling of the above exception, another exception occurred:\n",
      "\u001b[1;31mAttributeError\u001b[0m                            Traceback (most recent call last)",
      "\u001b[1;32m<ipython-input-30-e498a145b6ee>\u001b[0m in \u001b[0;36m<module>\u001b[1;34m\u001b[0m\n\u001b[0;32m     16\u001b[0m     \u001b[0msecond\u001b[0m\u001b[1;33m(\u001b[0m\u001b[1;33m)\u001b[0m\u001b[1;33m\u001b[0m\u001b[1;33m\u001b[0m\u001b[0m\n\u001b[0;32m     17\u001b[0m \u001b[1;33m\u001b[0m\u001b[0m\n\u001b[1;32m---> 18\u001b[1;33m \u001b[0mthird\u001b[0m\u001b[1;33m(\u001b[0m\u001b[1;33m)\u001b[0m\u001b[1;33m\u001b[0m\u001b[1;33m\u001b[0m\u001b[0m\n\u001b[0m\u001b[0;32m     19\u001b[0m \u001b[0msecond\u001b[0m\u001b[1;33m(\u001b[0m\u001b[1;33m)\u001b[0m\u001b[1;33m\u001b[0m\u001b[1;33m\u001b[0m\u001b[0m\n\u001b[0;32m     20\u001b[0m \u001b[0mfirst\u001b[0m\u001b[1;33m(\u001b[0m\u001b[1;33m)\u001b[0m\u001b[1;33m\u001b[0m\u001b[1;33m\u001b[0m\u001b[0m\n",
      "\u001b[1;32m<ipython-input-30-e498a145b6ee>\u001b[0m in \u001b[0;36mthird\u001b[1;34m()\u001b[0m\n\u001b[0;32m      7\u001b[0m     \u001b[1;32mexcept\u001b[0m \u001b[0mZeroDivisionError\u001b[0m \u001b[1;32mas\u001b[0m \u001b[0me\u001b[0m\u001b[1;33m:\u001b[0m\u001b[1;33m\u001b[0m\u001b[1;33m\u001b[0m\u001b[0m\n\u001b[0;32m      8\u001b[0m         \u001b[0mprint\u001b[0m\u001b[1;33m(\u001b[0m\u001b[0me\u001b[0m\u001b[1;33m)\u001b[0m\u001b[1;33m\u001b[0m\u001b[1;33m\u001b[0m\u001b[0m\n\u001b[1;32m----> 9\u001b[1;33m         \u001b[0mtraceback\u001b[0m\u001b[1;33m.\u001b[0m\u001b[0mprint_exec\u001b[0m\u001b[1;33m(\u001b[0m\u001b[1;33m)\u001b[0m\u001b[1;33m\u001b[0m\u001b[1;33m\u001b[0m\u001b[0m\n\u001b[0m\u001b[0;32m     10\u001b[0m \u001b[1;33m\u001b[0m\u001b[0m\n\u001b[0;32m     11\u001b[0m \u001b[1;33m\u001b[0m\u001b[0m\n",
      "\u001b[1;31mAttributeError\u001b[0m: module 'traceback' has no attribute 'print_exec'"
     ]
    }
   ],
   "source": [
    "import traceback\n",
    "\n",
    "def third():\n",
    "    try:\n",
    "        a = 10/0\n",
    "        print(a)\n",
    "    except ZeroDivisionError as e:\n",
    "        print(e)\n",
    "        traceback.print_exec()\n",
    "        \n",
    "    \n",
    "def second():\n",
    "    third()\n",
    "\n",
    "def first():\n",
    "    second()\n",
    "    \n",
    "third()\n",
    "second()\n",
    "first()\n"
   ]
  },
  {
   "cell_type": "code",
   "execution_count": 32,
   "metadata": {},
   "outputs": [
    {
     "name": "stdout",
     "output_type": "stream",
     "text": [
      "\n"
     ]
    }
   ],
   "source": [
    "def test():\n",
    "    try:\n",
    "        a = 10/2\n",
    "        raise ZeroDivisionError\n",
    "        \n",
    "        print(a)\n",
    "    except ZeroDivisionError as e:\n",
    "        print(e)\n",
    "test()"
   ]
  },
  {
   "cell_type": "code",
   "execution_count": null,
   "metadata": {},
   "outputs": [],
   "source": []
  },
  {
   "cell_type": "code",
   "execution_count": 53,
   "metadata": {},
   "outputs": [
    {
     "name": "stdout",
     "output_type": "stream",
     "text": [
      "프로그램 시작\n",
      "-5.0\n"
     ]
    }
   ],
   "source": [
    "def positiveDivide(a,b):\n",
    "    return a/b\n",
    "\n",
    "##3###\n",
    "class NegativeDivideError(Exception):\n",
    "    pass\n",
    "\n",
    "def main():\n",
    "    print('프로그램 시작')\n",
    "    try:\n",
    "        result = positiveDivide(10, -2)\n",
    "        print(result)\n",
    "    except NegativeDivideError as e:\n",
    "        print('음수로 나눌 수 없다.')\n",
    "    \n",
    "if __name__ == '__main__':\n",
    "    main()"
   ]
  },
  {
   "cell_type": "markdown",
   "metadata": {},
   "source": [
    "# 라이브러리 종류\n",
    "\n",
    "    1) TKinter\n",
    "    2) wxPyhon\n",
    "    3) PyQT\n",
    "    \n",
    "# 라이브러리 준비\n",
    "    \n",
    "    1) 직접 다운로드를 받아서 site-packages에 복사\n",
    "    2) Pip install 모듈명\n",
    "    3) pycharm에서 직접 세팅 (File -> settings -> project interpreter -> 추가)"
   ]
  },
  {
   "cell_type": "code",
   "execution_count": null,
   "metadata": {},
   "outputs": [],
   "source": []
  }
 ],
 "metadata": {
  "kernelspec": {
   "display_name": "Python 3",
   "language": "python",
   "name": "python3"
  },
  "language_info": {
   "codemirror_mode": {
    "name": "ipython",
    "version": 3
   },
   "file_extension": ".py",
   "mimetype": "text/x-python",
   "name": "python",
   "nbconvert_exporter": "python",
   "pygments_lexer": "ipython3",
   "version": "3.7.1"
  }
 },
 "nbformat": 4,
 "nbformat_minor": 2
}
