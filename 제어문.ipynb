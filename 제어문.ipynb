{
 "cells": [
  {
   "cell_type": "markdown",
   "metadata": {},
   "source": [
    "# 조건문( Conditional Statement)\n",
    "   \n",
    "### if\n",
    "    1) if 조건식:\n",
    "            문장\n",
    "            문장\n",
    "            ...\n",
    "       or\n",
    "       if 조건식: \n",
    "            문장\n",
    "       \n",
    "    2) if 조건식:\n",
    "            문장\n",
    "       else:\n",
    "           문장\n",
    "       \n",
    "    3) if 조건식:\n",
    "            문장\n",
    "       elif 조건식 :\n",
    "              문장\n",
    "       else:\n",
    "           문장\n",
    "           \n",
    "### 조건문의 중첩\n",
    "    \n",
    "    if 조건식:\n",
    "        문장\n",
    "        ...\n",
    "        if 조건식:\n",
    "            문장\n",
    "            ..."
   ]
  },
  {
   "cell_type": "code",
   "execution_count": 6,
   "metadata": {},
   "outputs": [
    {
     "name": "stdout",
     "output_type": "stream",
     "text": [
      "숫자 입력: 3\n",
      "홀수입니다.\n"
     ]
    }
   ],
   "source": [
    "# 입력받은 숫자가 짝수/ 홀수 인지 구별하는 프로그램 작성\n",
    "\n",
    "num1 = int(input(\"숫자 입력: \"))\n",
    "\n",
    "if(num1%2 == 0):\n",
    "    print(\"짝수입니다.\")\n",
    "else:\n",
    "    print(\"홀수입니다.\")"
   ]
  },
  {
   "cell_type": "code",
   "execution_count": 9,
   "metadata": {
    "scrolled": true
   },
   "outputs": [
    {
     "ename": "SyntaxError",
     "evalue": "invalid syntax (<ipython-input-9-651c379e09fe>, line 35)",
     "output_type": "error",
     "traceback": [
      "\u001b[1;36m  File \u001b[1;32m\"<ipython-input-9-651c379e09fe>\"\u001b[1;36m, line \u001b[1;32m35\u001b[0m\n\u001b[1;33m    else\u001b[0m\n\u001b[1;37m        ^\u001b[0m\n\u001b[1;31mSyntaxError\u001b[0m\u001b[1;31m:\u001b[0m invalid syntax\n"
     ]
    }
   ],
   "source": [
    "#입력받은 값이 a,b,c,d 이면 \"정답\"이라고 출력하고 아니면 \"오답\"이라고 출력\n",
    "\n",
    "# a = input(\"알파벳 입력 : \")\n",
    "\n",
    "# if(a == 'a' or a == 'b' or a =='c' or a == 'd'):\n",
    "#     print(\"정답\")\n",
    "# else:\n",
    "#     print(\"오답\")\n",
    "    \n",
    "# ans = (\"a\", \"b\", \"c\", \"d\")\n",
    "# if input(\"입력 :\") in ans:\n",
    "#     print(\"정답\")\n",
    "# else:\n",
    "#     print(\"오답\")\n",
    "    \n",
    "# a = input(\"알파벳 입력 : \")\n",
    "# ans = (\"a\", \"b\", \"c\", \"d\")\n",
    "\n",
    "# if ans.count(a) > 0:\n",
    "#     print(\"정답\")\n",
    "# else:\n",
    "#     print(\"오답\") \n",
    "\n",
    "# a = input(\"알파벳 입력 : \")\n",
    "# ans = [\"a\", \"b\", \"c\", \"d\"]\n",
    "\n",
    "# if a in ans:\n",
    "#     print(\"정답\")\n",
    "# else:\n",
    "#     print(\"오답\") \n",
    "    "
   ]
  },
  {
   "cell_type": "code",
   "execution_count": 5,
   "metadata": {},
   "outputs": [
    {
     "name": "stdout",
     "output_type": "stream",
     "text": [
      "65 97 98 66\n"
     ]
    }
   ],
   "source": [
    "print(ord(\"A\"),ord(\"a\"),ord(\"b\"),ord(\"B\"))"
   ]
  },
  {
   "cell_type": "code",
   "execution_count": 4,
   "metadata": {},
   "outputs": [
    {
     "name": "stdout",
     "output_type": "stream",
     "text": [
      "보통\n"
     ]
    }
   ],
   "source": [
    "#학점 구하기\n",
    "\n",
    "avg = 78\n",
    "if (90 <= avg):\n",
    "    grade = '우수'\n",
    "elif (70 <= avg):\n",
    "    grade = '보통'\n",
    "else:\n",
    "    grade = '저조'\n",
    "    \n",
    "print(grade)"
   ]
  },
  {
   "cell_type": "code",
   "execution_count": 7,
   "metadata": {},
   "outputs": [
    {
     "name": "stdout",
     "output_type": "stream",
     "text": [
      "연산자 입력 :+\n",
      "========== 오직 정수만 입력해주세요 ==========\n",
      "첫번째 입력 :4\n",
      "두번째 입력 :6\n",
      "4 + 6 = 10\n"
     ]
    }
   ],
   "source": [
    "#전자 계산기 프로그램(사칙 연산만 가능)\n",
    "#사칙 연산외에 다른 연산자가 입력되면 \"해당 연산기능이 없습니다\" 라고 출력\n",
    "\"\"\"\n",
    "연산자 입력 : +(엔터)\n",
    "숫자 입력 : 5(엔터)\n",
    "숫자 입력 : 3(엔터)\n",
    "\n",
    "결과 : 5 + 3 = 8\n",
    "\"\"\"\n",
    "\n",
    "a = input(\"연산자 입력 :\")\n",
    "print('='*10,\"오직 정수만 입력해주세요\",'='*10)\n",
    "num1 = int(input(\"첫번째 입력 :\"))\n",
    "num2 = int(input(\"두번째 입력 :\"))\n",
    "\n",
    "if (a == '+'):\n",
    "    print(\"%d + %d = %d\" %(num1,num2,num1+num2))\n",
    "elif (a == '-'):\n",
    "    print(\"%d - %d = %d\" %(num1,num2,num1+num2))\n",
    "elif (a == '*'):\n",
    "    print(\"%d * %d = %d\" %(num1,num2,num1+num2))\n",
    "elif (a == '/'):\n",
    "    print(\"%d / %d = %d\" %(num1,num2,num1+num2))\n",
    "else:\n",
    "    print(\"해당 연산기능이 없습니다.\")\n"
   ]
  },
  {
   "cell_type": "code",
   "execution_count": 2,
   "metadata": {},
   "outputs": [
    {
     "name": "stdout",
     "output_type": "stream",
     "text": [
      "==============================\n",
      "1번 덧셈\n",
      "2번 뺄셈\n",
      "3번 곱셈\n",
      "4번 나눗셈\n",
      "==============================\n",
      "위 보기의 숫자를 입력해 주세요. :1\n",
      "첫번째 입력 :4\n",
      "두번째 입력 :6\n",
      "4 + 6 = 10\n"
     ]
    }
   ],
   "source": [
    "print('='*30)\n",
    "print(\"1번 덧셈\")\n",
    "print(\"2번 뺄셈\")\n",
    "print(\"3번 곱셈\")\n",
    "print(\"4번 나눗셈\")\n",
    "print('='*30)\n",
    "a = int(input(\"위 보기의 숫자를 입력해 주세요. :\"))\n",
    "num1 = int(input(\"첫번째 입력 :\"))\n",
    "num2 = int(input(\"두번째 입력 :\"))\n",
    "\n",
    "if (a == 1):\n",
    "    print(\"%d + %d = %d\" %(num1,num2,num1+num2))\n",
    "elif (a == 2):\n",
    "    print(\"%d - %d = %d\" %(num1,num2,num1+num2))\n",
    "elif (a == 3):\n",
    "    print(\"%d * %d = %d\" %(num1,num2,num1+num2))\n",
    "elif (a == 4):\n",
    "    print(\"%d / %d = %d\" %(num1,num2,num1+num2))\n",
    "else:\n",
    "    print(\"해당 연산기능이 없습니다.\")\n",
    "\n",
    "\n",
    "\n",
    "    "
   ]
  },
  {
   "cell_type": "code",
   "execution_count": 4,
   "metadata": {},
   "outputs": [
    {
     "name": "stdout",
     "output_type": "stream",
     "text": [
      "아이디 :tom\n",
      "패스워드 :1234\n",
      "로그인성공\n"
     ]
    }
   ],
   "source": [
    "#조건문의 중첩\n",
    "id = input(\"아이디 :\")\n",
    "pw = input(\"패스워드 :\")\n",
    "if (id == 'tom'):\n",
    "    if (pw == '1234'):\n",
    "        print(\"로그인성공\")\n",
    "    else:\n",
    "        print(\"비밀번호가 틀렸습니다.\")\n",
    "else:\n",
    "    if (pw == '1234'):\n",
    "        print(\"아이디가 틀렸습니다.\")\n",
    "    else:\n",
    "        print(\"아이디와 비밀번호가 틀렸습니다.\")"
   ]
  },
  {
   "cell_type": "markdown",
   "metadata": {},
   "source": [
    "# 반복문(Loop Statement)\n",
    "\n",
    "### while\n",
    "    \n",
    "    1) while(조건식):\n",
    "            문장\n",
    "            \n",
    "### for\n",
    "\n",
    "    1) for 변수 in 집합자료형:\n",
    "            문장\n",
    "            \n",
    "### 강제 종료\n",
    "    \n",
    "    -break : 완전 종료\n",
    "    -continue : 일시 종료"
   ]
  },
  {
   "cell_type": "code",
   "execution_count": 34,
   "metadata": {},
   "outputs": [
    {
     "name": "stdout",
     "output_type": "stream",
     "text": [
      "* * * * * * * * * * \n",
      "==============================\n",
      "55 \n",
      "==============================\n",
      "1024 "
     ]
    }
   ],
   "source": [
    "# 별(*)을 10개 출력\n",
    "b = '*'\n",
    "cnt = 1;\n",
    "while(cnt <= 10):\n",
    "    print(b, end = ' ')\n",
    "    cnt += 1\n",
    "\n",
    "print('')    \n",
    "print('=' * 30)\n",
    "\n",
    "# 1부터 10까지의 합계\n",
    "cnt = 1;\n",
    "num = 0;\n",
    "while(cnt <= 10):\n",
    "    num = num + cnt\n",
    "    sum = num\n",
    "    cnt += 1\n",
    "print(sum,end = ' ')\n",
    "\n",
    "print('')    \n",
    "print('=' * 30)\n",
    "\n",
    "# 2의 10승(1024)\n",
    "cnt = 1;\n",
    "num = 1;\n",
    "while(cnt <= 10):\n",
    "    num = num * 2\n",
    "    sum = num\n",
    "    cnt += 1\n",
    "print(sum,end = ' ')"
   ]
  },
  {
   "cell_type": "code",
   "execution_count": 42,
   "metadata": {},
   "outputs": [
    {
     "name": "stdout",
     "output_type": "stream",
     "text": [
      "0 1 2 3 4 5 6 7 8 9 \n",
      "==============================\n",
      "a b c d e f g h i j k l m n \n",
      "==============================\n",
      "5 6 7 8 9 \n",
      "==============================\n",
      "5 7 9 "
     ]
    }
   ],
   "source": [
    "#for\n",
    "data = [0,1,2,3,4,5,6,7,8,9]\n",
    "\n",
    "for v in data:\n",
    "    print(v, end=\" \")\n",
    "    \n",
    "print('')    \n",
    "print('=' * 30)\n",
    "\n",
    "data = 'abcdefghijklmn'\n",
    "for v in data:\n",
    "    print(v, end=\" \")\n",
    "    \n",
    "print('')    \n",
    "print('=' * 30)\n",
    "\n",
    "#range(시작, 끝, 증가값)\n",
    "\n",
    "for v in range(5,10):\n",
    "    print(v, end=\" \")\n",
    "    \n",
    "print('')    \n",
    "print('=' * 30)\n",
    "\n",
    "for v in range(5,10,2):\n",
    "    print(v, end=\" \")"
   ]
  },
  {
   "cell_type": "code",
   "execution_count": 45,
   "metadata": {
    "scrolled": true
   },
   "outputs": [
    {
     "name": "stdout",
     "output_type": "stream",
     "text": [
      "0\n",
      "1\n",
      "2\n",
      "3\n",
      "4\n",
      "6\n",
      "7\n",
      "8\n",
      "9\n"
     ]
    }
   ],
   "source": [
    "# 강제 종료(분기문)\n",
    "for v in range(10):\n",
    "    if v == 5:\n",
    "        # break\n",
    "        continue\n",
    "    print(v)\n",
    "    "
   ]
  },
  {
   "cell_type": "code",
   "execution_count": 76,
   "metadata": {},
   "outputs": [
    {
     "name": "stdout",
     "output_type": "stream",
     "text": [
      "* * * * * * * * * * \n",
      "* * * * * * * * * * \n",
      "* * * * * * * * * * \n"
     ]
    }
   ],
   "source": [
    "# 반복문의 중첩\n",
    "\n",
    "for row in range(3):\n",
    "    for col in range(10):\n",
    "        print(\"*\", end=\" \")\n",
    "    print()\n",
    "    \n",
    "cnt = 0;\n",
    "cnt2 = 0;\n",
    "while(cnt <= 3):\n",
    "    while(cnt2 <= 10):\n",
    "        print(\"*\", end=\" \")\n",
    "        cnt2 =+ 1\n",
    "    print()\n",
    "cnt =+ 1"
   ]
  },
  {
   "cell_type": "code",
   "execution_count": 18,
   "metadata": {},
   "outputs": [
    {
     "name": "stdout",
     "output_type": "stream",
     "text": [
      "\n",
      "* \n",
      "* * \n",
      "* * * \n",
      "* * * * \n",
      "* * * * * \n",
      "\n",
      "==============================\n",
      "* * * * *  \n",
      "* * * *  \n",
      "* * *  \n",
      "* *  \n",
      "*  \n",
      " \n",
      "\n",
      "==============================\n",
      "          \n",
      "        * \n",
      "      * * * \n",
      "    * * * * * \n",
      "  * * * * * * * \n",
      "* * * * * * * * * \n",
      "\n",
      "==============================\n",
      "- - - - - \n",
      "- - - - * \n",
      "- - - * * * \n",
      "- - * * * * * \n",
      "- * * * * * * * \n",
      "* * * * * * * * * \n",
      "- * * * * * * * \n",
      "- - * * * * * \n",
      "- - - * * * \n",
      "- - - - * \n"
     ]
    }
   ],
   "source": [
    "for row in range(6):\n",
    "    for col in range(0,row,1):\n",
    "        print(\"*\", end=\" \")\n",
    "    print()\n",
    "    \n",
    "print('')    \n",
    "print('=' * 30)\n",
    "\n",
    "'''\n",
    "    *\n",
    "   ***\n",
    "  *****\n",
    " *******\n",
    "*********\n",
    "\n",
    "'''\n",
    "\n",
    "'''\n",
    "    *\n",
    "   ***\n",
    "  *****\n",
    "   ***\n",
    "    *\n",
    "'''\n",
    "\n",
    "for row in range(6):\n",
    "    for col in range(5,row,-1):\n",
    "        print(\"*\", end=\" \")\n",
    "    print(\" \")\n",
    "    \n",
    "print('')    \n",
    "print('=' * 30)\n",
    "\n",
    "for row in range(6):\n",
    "    for col in range(0,5-row,1):\n",
    "        print(\" \", end=\" \")\n",
    "    for col in range(0,2*row-1,1):\n",
    "        print(\"*\", end=\" \")\n",
    "    print()\n",
    "\n",
    "    \n",
    "print('')    \n",
    "print('=' * 30)\n",
    "\n",
    "for row in range(6):\n",
    "    for col in range(0,5-row,1):\n",
    "        print(\"-\", end=\" \")\n",
    "    for col in range(0,2*row-1,1):\n",
    "        print(\"*\", end=\" \")\n",
    "    print()\n",
    "for row in range(4,0,-1):\n",
    "    for col in range(0,5-row,1):\n",
    "        print(\"-\", end=\" \")\n",
    "    for col in range(0,2*row-1,1):\n",
    "        print(\"*\", end=\" \")\n",
    "    print()"
   ]
  },
  {
   "cell_type": "code",
   "execution_count": null,
   "metadata": {},
   "outputs": [],
   "source": []
  },
  {
   "cell_type": "code",
   "execution_count": 121,
   "metadata": {},
   "outputs": [
    {
     "name": "stdout",
     "output_type": "stream",
     "text": [
      "1\n"
     ]
    }
   ],
   "source": [
    "#random\n",
    "\n",
    "import random\n",
    "num = random.randint(0,2)\n",
    "print(num)\n"
   ]
  },
  {
   "cell_type": "code",
   "execution_count": null,
   "metadata": {},
   "outputs": [],
   "source": []
  }
 ],
 "metadata": {
  "kernelspec": {
   "display_name": "Python 3",
   "language": "python",
   "name": "python3"
  },
  "language_info": {
   "codemirror_mode": {
    "name": "ipython",
    "version": 3
   },
   "file_extension": ".py",
   "mimetype": "text/x-python",
   "name": "python",
   "nbconvert_exporter": "python",
   "pygments_lexer": "ipython3",
   "version": "3.7.3"
  }
 },
 "nbformat": 4,
 "nbformat_minor": 2
}
