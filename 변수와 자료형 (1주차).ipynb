{
 "cells": [
  {
   "cell_type": "code",
   "execution_count": 1,
   "metadata": {},
   "outputs": [
    {
     "name": "stdout",
     "output_type": "stream",
     "text": [
      "나무를 1번 찍었습니다.\n",
      "나무를 2번 찍었습니다.\n",
      "나무를 3번 찍었습니다.\n",
      "나무를 4번 찍었습니다.\n",
      "나무를 5번 찍었습니다.\n",
      "나무를 6번 찍었습니다.\n",
      "나무를 7번 찍었습니다.\n",
      "나무를 8번 찍었습니다.\n",
      "나무를 9번 찍었습니다.\n",
      "나무를 10번 찍었습니다.\n",
      "나무 넘어갑니다.\n"
     ]
    }
   ],
   "source": [
    "treehit = 0\n",
    "while treehit < 10:\n",
    "    treehit = treehit + 1\n",
    "    print(\"나무를 %d번 찍었습니다.\" % treehit)\n",
    "    if treehit == 10:\n",
    "        print(\"나무 넘어갑니다.\")"
   ]
  },
  {
   "cell_type": "code",
   "execution_count": 2,
   "metadata": {},
   "outputs": [
    {
     "name": "stdout",
     "output_type": "stream",
     "text": [
      "1\n",
      "1\n",
      "1 1\n",
      "1 와 1\n"
     ]
    }
   ],
   "source": [
    "a = 1\n",
    "print(a)\n",
    "b = 1\n",
    "print(b)\n",
    "print(a,b)\n",
    "print(a, \"와\", b)"
   ]
  },
  {
   "cell_type": "code",
   "execution_count": 4,
   "metadata": {},
   "outputs": [
    {
     "name": "stdout",
     "output_type": "stream",
     "text": [
      "<class 'int'>\n",
      "<class 'str'>\n"
     ]
    },
    {
     "data": {
      "text/plain": [
       "float"
      ]
     },
     "execution_count": 4,
     "metadata": {},
     "output_type": "execute_result"
    }
   ],
   "source": [
    "a = 10\n",
    "print(type(a))\n",
    "a = '가'\n",
    "print(type(a))\n",
    "a = 3.14\n",
    "type (a)"
   ]
  },
  {
   "cell_type": "code",
   "execution_count": 9,
   "metadata": {
    "scrolled": false
   },
   "outputs": [
    {
     "name": "stdout",
     "output_type": "stream",
     "text": [
      "True\n"
     ]
    }
   ],
   "source": [
    "a = 10\n",
    "b = 10\n",
    "print(a is b)"
   ]
  },
  {
   "cell_type": "markdown",
   "metadata": {},
   "source": [
    "# 자료\n",
    "# =======\n",
    "\n",
    "## 종류\n",
    "\n",
    "    1)기본 자료형\n",
    "        -정수형(int), 실수형(float), 복소수형, 문자형(str), 함수형\n",
    "        \n",
    "    2)집합 자료형\n",
    "        -list, tuple, dictionary ,set\n",
    "        \n",
    "## 수정 가능성에 따라\n",
    "\n",
    "    1) 변경 가능 : list, dict, set\n",
    "    \n",
    "    2) 변경 불가능 : int, float, complex, bool, str, tuple"
   ]
  },
  {
   "cell_type": "code",
   "execution_count": 1,
   "metadata": {},
   "outputs": [
    {
     "name": "stdout",
     "output_type": "stream",
     "text": [
      "python is very simple\n",
      "'여러줄로 문자열을 작성 할 수 있습니다.'\n"
     ]
    }
   ],
   "source": [
    "var1 = 'python is very simple'\n",
    "print(var1)\n",
    "\n",
    "var1 = \"'여러줄로 문자열을 작성 할 수 있습니다.'\"\n",
    "print(var1)"
   ]
  },
  {
   "cell_type": "code",
   "execution_count": 23,
   "metadata": {},
   "outputs": [
    {
     "name": "stdout",
     "output_type": "stream",
     "text": [
      "여러줄로\n",
      "\n",
      "안\t녕\n",
      "\\n은 줄바꿈 기능입니다\n"
     ]
    }
   ],
   "source": [
    "#특수문자(제어문자) : \\문자\n",
    "\n",
    "var1 = \"여러줄로\\n\"\n",
    "print(var1)\n",
    "\n",
    "var1 = \"안\\t녕\"\n",
    "print(var1)\n",
    "\n",
    "#escape문자 : \\\n",
    "var1 = \"\\\\n은 줄바꿈 기능입니다\"\n",
    "print(var1)"
   ]
  },
  {
   "cell_type": "code",
   "execution_count": 90,
   "metadata": {},
   "outputs": [
    {
     "name": "stdout",
     "output_type": "stream",
     "text": [
      "Python is fun 100\n",
      "python python python \n",
      "love\n",
      "Life 어서오세요\n",
      "pytion\n",
      "10 + 20 = 30 ho\n",
      "10 + 20 = 30 ho\n",
      "a,b,c,d,e,f,g\n",
      "['Life', 'is', 'too', 'short']\n",
      "['홍길동', '임꺽정', '신돌석']\n",
      "3\n"
     ]
    }
   ],
   "source": [
    "#Concatenation\n",
    "\n",
    "head = \"Python\"\n",
    "tail = \"is fun\"\n",
    "num = 100\n",
    "print(head +\" \"+ tail +\" \" + \"%d\" %num)\n",
    "\n",
    "a = \"python \"\n",
    "print(a * 3)\n",
    "\n",
    "#indexing\n",
    "a = \"love is painful\"\n",
    "print(a[0]+a[1]+a[2]+a[3])\n",
    "\n",
    "#slicing\n",
    "a = \"Life is too short, you need Python\"\n",
    "b = \"안녕하세요 어서오세요\"\n",
    "print(a[:5] + b[6:])\n",
    "\n",
    "#수정\n",
    "a = \"pition\"\n",
    "b = a[:1] + \"y\" + a[2:]\n",
    "print(b)\n",
    "\n",
    "#포맷팅\n",
    "a,b,c = 10,20,30\n",
    "d = 'ho'\n",
    "print(\"%d + %d = %d %s\" %(a,b,c,d))\n",
    "print(\"{0} + {1} = {2} {3}\" .format(a,b,c,d))\n",
    "\n",
    "#관련함수\n",
    "#count() : count\n",
    "#find() : 해당문자의 존재여유\n",
    "#index()\n",
    "\n",
    "var1 = \",\"\n",
    "var2 = var1.join(\"abcdefg\")\n",
    "print(var2)\n",
    "\n",
    "\n",
    "var1 = \"Life is too short\"\n",
    "var2 = var1.split(\" \")\n",
    "print(var2)\n",
    "var1 = \"홍길동:임꺽정:신돌석\"\n",
    "var2 = var1.split(\":\")\n",
    "print(var2)\n",
    "\n",
    "a = [100,200,300,100,100]\n",
    "i = 1\n",
    "while(i < 10):\n",
    "    i = i + 1\n",
    "print(a.count(100))\n",
    "\n",
    "\n",
    "var1.\n"
   ]
  },
  {
   "cell_type": "markdown",
   "metadata": {},
   "source": [
    "========================================================\n",
    "+ list\n",
    "    - 임의의 객체를 순차적으로 저장하는 집합적 자료\n",
    "    - 각 값에 대해 인덱스가 부여됨\n",
    "    - 변경 가능\n",
    "    - \"[ ]\"사용\n",
    "\n",
    "========================================================\n",
    "    "
   ]
  },
  {
   "cell_type": "code",
   "execution_count": null,
   "metadata": {},
   "outputs": [],
   "source": [
    "a = [1,3,5,7,9]\n",
    "print(a)\n",
    "print(a[2] + 10)\n",
    "print(a[-1])\n",
    "print(type(a))\n",
    "\n",
    "b = [1,2,3,['a','b','c']]\n",
    "print(b[3])\n",
    "print(b[3][1])\n",
    "\n",
    "print(\"=\" * 50)\n",
    "\n",
    "#복사(얕게)\n",
    "a = [1,2,3,4,5]\n",
    "b = a\n",
    "b[0] = 10\n",
    "print(a)\n",
    "\n",
    "#복사(깊이)\n",
    "a = [1,2,3,4,5]\n",
    "\n",
    "b = a[:]\n",
    "b[0] = 10\n",
    "print(a)\n",
    "\n",
    "#연산 \n",
    "a = [1, 2, 3]\n",
    "b = [4, 5, 6]\n",
    "print(a + b)\n",
    "print(a * 3)\n",
    "print(str(a[2]) + 'hi')\n",
    "\n",
    "#변경\n",
    "a = [1,2,3]\n",
    "print(a[0:2])\n",
    "a[0:2] = ['a', 'b']\n",
    "print(a)\n",
    "\n",
    "a[1:3] = []\n",
    "print(a)\n",
    "print(\"=\" * 50)\n",
    "#추가(insert(),append(),extend(), +=)\n",
    "a  = [1, 2, 3]\n",
    "a.insert(0,0)\n",
    "print(a)\n",
    "a.insert(4, 10)\n",
    "print(a)\n",
    "a.append(20)\n",
    "print(a)\n",
    "a.append([21,22,23])\n",
    "print(a)\n",
    "a.extend([30])\n",
    "print(a)\n",
    "a.extend([31,32,33])\n",
    "print(a)\n",
    "\n",
    "a = 10\n",
    "a += 5 #a = a + 5\n",
    "a = a + 2\n",
    "print(a)\n",
    "\n",
    "a += [40]\n",
    "print(a)\n"
   ]
  },
  {
   "cell_type": "code",
   "execution_count": 3,
   "metadata": {},
   "outputs": [
    {
     "name": "stdout",
     "output_type": "stream",
     "text": [
      "[1, 2, 3, 4]\n",
      "['a', 'b', 'c', 'd']\n"
     ]
    }
   ],
   "source": [
    "#정렬\n",
    "a = [1, 4, 2, 3]\n",
    "a.sort()\n",
    "print(a)\n",
    "a = ['a', 'c', 'd', 'b']\n",
    "a.sort()\n",
    "print(a)"
   ]
  },
  {
   "cell_type": "code",
   "execution_count": null,
   "metadata": {},
   "outputs": [],
   "source": [
    "#정렬\n",
    "a = [1, 4, 2, 3]\n",
    "a.sort()\n",
    "print(a)\n",
    "a = ['a', 'c', 'd', 'b']\n",
    "a.sort()\n",
    "print(a)\n",
    "a.reverse()\n",
    "print(a)\n",
    "print('='*20)\n",
    "#위치 찾기\n",
    "a =[1,2,3]\n",
    "print (a.index(1))\n",
    "\n",
    "#삭제\n",
    "a = [1,2,3,1,2,3]\n",
    "a[1:3] = []\n",
    "print(a)\n",
    "\n",
    "a = [1,2,3,1,2,3]\n",
    "a.remove(3)\n",
    "print(a)\n",
    "\n",
    "del a[0]\n",
    "print(a)\n",
    "\n",
    "print('='*20)\n",
    "\n",
    "#pop\n",
    "a = [1,2,3]\n",
    "b = a.pop()\n",
    "print(a)\n",
    "print(b)\n",
    "\n",
    "print('='*20)\n",
    "\n",
    "#포함 여부\n",
    "\n",
    "a = [1,2,3,4,5]\n",
    "print(2 in a)\n",
    "print(2 not in a)"
   ]
  },
  {
   "cell_type": "code",
   "execution_count": null,
   "metadata": {},
   "outputs": [],
   "source": [
    "a = ('a','b','c','a')\n",
    "print(a)\n",
    "print(type(a))\n",
    "print(len(a))\n",
    "print(a.count('a'))\n",
    "print(a.index('c'))\n",
    "\n",
    "print('='*20)\n",
    "\n",
    "b = list(a)\n",
    "print(b)\n",
    "b[1] = 10\n",
    "print(b)\n",
    "c = tuple(b)\n",
    "print(c)\n",
    "\n",
    "print('='*20)\n",
    "\n",
    "a,b,c = (10,20,30)\n",
    "print(a,b,c)\n",
    "\n",
    "#swap 알고리즘\n",
    "t1 = (10,20)\n",
    "a,b = t1\n",
    "b, a = a, b\n",
    "\n",
    "t2 = (a,b)\n",
    "\n",
    "print(t2)\n",
    "\n"
   ]
  },
  {
   "cell_type": "code",
   "execution_count": null,
   "metadata": {},
   "outputs": [],
   "source": [
    "a = {'name':\"김철수\", 'phone' : '0101111111', 'birth':'901230'}\n",
    "print(a.get('name'))\n",
    "print(a.get('phone'))\n",
    "print(a.get('birth'))\n",
    "print(a.keys())\n",
    "print(list(a.keys()))\n",
    "print(a.values())\n",
    "\n",
    "print(a.items())\n",
    "b = list(a.items())\n",
    "print(b[0])\n",
    "\n",
    "a[\"name\"] = \"홍길동\"\n",
    "print(a)\n",
    "a[\"addr\"] = \"서울시 강남구\"\n",
    "print(a)\n",
    "del a[\"birth\"]\n",
    "print(a)\n",
    "a.clear()\n",
    "print(a)\n",
    "\n",
    "a = dict(k1 =1, k2='a,b,c', k3= 3.4)\n",
    "print(a)"
   ]
  },
  {
   "cell_type": "markdown",
   "metadata": {},
   "source": [
    "+ set\n",
    "    - \"{ }\" 사용\n",
    "    - 순서가 없다.\n",
    "    - 중복 불가\n",
    "    - union(), intersection(), difference()\n",
    "    "
   ]
  },
  {
   "cell_type": "code",
   "execution_count": 1,
   "metadata": {},
   "outputs": [
    {
     "name": "stdout",
     "output_type": "stream",
     "text": [
      "{1, 2, 3}\n",
      "set의 길이 : 3\n",
      "--------------------\n",
      "교집합 : {4, 5, 6}\n",
      "교집합 : {4, 5, 6}\n",
      "합집합 : {1, 2, 3, 4, 5, 6, 7, 8, 9}\n",
      "합집합 : {1, 2, 3, 4, 5, 6, 7, 8, 9}\n",
      "차집합 : {1, 2, 3}\n",
      "차집합 : {1, 2, 3}\n",
      "--------------------\n",
      "{1, 2, 3, 4, 5, 6, 7, 8}\n",
      "{1, 2, 3, 4, 5, 6, 7, 8, 9}\n",
      "{1, 2, 4, 5, 6, 7, 8, 9}\n",
      "{1, 2, 4, 5, 6, 7, 8, 9}\n",
      "{1, 2, 4, 5, 6, 7, 8, 9}\n",
      "{1, 2, 3, 4}\n"
     ]
    }
   ],
   "source": [
    "a = {1, 2, 3, 1}\n",
    "print(a)\n",
    "print(\"set의 길이 :\" , len(a)) #순서가 없기때문에 index사용불가\n",
    "\n",
    "print('-' * 20)\n",
    "s1 = {1,2,3,4,5,6}\n",
    "s2 = {4,5,6,7,8,9}\n",
    "\n",
    "print(\"교집합 :\",s1 & s2)\n",
    "print(\"교집합 :\",s1.intersection(s2))\n",
    "print(\"합집합 :\",s1 | s2)\n",
    "print(\"합집합 :\",s1.union(s2))\n",
    "print(\"차집합 :\",s1 - s2)\n",
    "print(\"차집합 :\",s1.difference(s2))\n",
    "      \n",
    "print('-' * 20)\n",
    "\n",
    "s1.update({7,8})\n",
    "print(s1)\n",
    "\n",
    "s1.add(9)\n",
    "print(s1)\n",
    "\n",
    "s1.discard(3)\n",
    "print(s1)\n",
    "\n",
    "#삭제 데이터가 없으면 에로 발생\n",
    "s1.add(2)\n",
    "print(s1)\n",
    "s1.remove\n",
    "\n",
    "#삭제(데이터가 없으면 그냥 통관)\n",
    "s1.discard(3)\n",
    "print(s1)\n",
    "\n",
    "a = None\n",
    "a = set()\n",
    "b = [1,2,3,4,4,2]\n",
    "a = set(b)\n",
    "print(a)"
   ]
  },
  {
   "cell_type": "markdown",
   "metadata": {},
   "source": [
    "연산자(Operator)\n",
    "- \"( )\"를 활용하자.\n",
    "- 연산자 모양만 보고 판단하지 말자\n",
    "\n",
    "산술연산자(Arithmatic)\n",
    "+, -, /, *, %, //,**\n",
    "\n",
    "비교연산자\n",
    ">, <, >=, <=, ==, !=\n",
    "\n",
    "논리연산자\n",
    "and, or, not\n",
    "\n",
    "A B   A and B   A OR B  NOT(A,B)  A^B\n",
    "---------------------------------------\n",
    "T T      T        T     F F        F\n",
    "T F      F        T     F T        T   \n",
    "F T      F        T     T F        T\n",
    "F F      F        F     T T        F\n",
    "\n",
    "대입(치환) 연산자\n",
    "=, +=, -=, *=, /=, ...\n",
    "\n",
    "====================================================================\n",
    "\n",
    "포함 여부 연산자\n",
    "in, not in, \n",
    "\n",
    "비트 연산자\n",
    "&, |, ^ , ~, <<, >>\n"
   ]
  },
  {
   "cell_type": "code",
   "execution_count": null,
   "metadata": {},
   "outputs": [],
   "source": [
    "#대입 연산자\n",
    "a1, a2, a3 = [1,2,3]\n",
    "a1, *a2, a3 = [1,2,3,4,5]\n",
    "print(a1)\n",
    "print(a2)\n",
    "print(a3)"
   ]
  },
  {
   "cell_type": "code",
   "execution_count": 2,
   "metadata": {},
   "outputs": [
    {
     "name": "stdout",
     "output_type": "stream",
     "text": [
      "True\n",
      "7\n",
      "True\n",
      "True\n",
      "암호화된 값 : 35493334\n",
      "복호화된 값 : 648723\n"
     ]
    }
   ],
   "source": [
    "#비트 연산자\n",
    "a,b = 5, 7\n",
    "print(a>3 & b<4)\n",
    "print(a and b)\n",
    "print(a>3 & b<4)\n",
    "print(bool(\"hello\")), bool(10), bool(\"\"), bool([]), bool({})\n",
    "\n",
    "#xor(exclusive or) ^\n",
    "password = 648723\n",
    "key = 34894789\n",
    "encode = password ^ key\n",
    "print(\"암호화된 값 :\", encode)\n",
    "print(\"복호화된 값 :\", encode ^ key)"
   ]
  },
  {
   "cell_type": "code",
   "execution_count": null,
   "metadata": {},
   "outputs": [],
   "source": [
    "#input\n",
    "\n",
    "name = input(\"당신의 이름은 : \")\n",
    "print (\"환영합니다 \" +name+\"님 \"+\"즐거운 하루 되세요\")\n",
    "\n",
    "a = input(\"첫번째 : \")\n",
    "b = input(\"두번째 : \")\n",
    "print(\"결과:{0},{1}\".format(a,b))\n",
    "num1 = int(a)\n",
    "num2 = int(b)\n",
    "print(\"%d + %d = %d\" %(num1,num2,num1+num2))"
   ]
  },
  {
   "cell_type": "code",
   "execution_count": null,
   "metadata": {},
   "outputs": [],
   "source": [
    "# 튜플 Tuple\n",
    "- 리스트와 거의 유사\n",
    "- \"()\" 사용 (list는 \"[ ]\" )\n",
    "- 변경 불가 (집합자료형 중 유일하게) = 읽기 전용\n",
    "- 리스트보다 속도가 빠르다"
   ]
  },
  {
   "cell_type": "code",
   "execution_count": null,
   "metadata": {},
   "outputs": [],
   "source": [
    "dict (dictionary)\n",
    "- 순서가 없음 (list, tuple과 달리 순차적이지 않음), \"index\" 활용불가\n",
    "- 대응관계를 나타내는 자료형, 연관배열(Associative array), 해시(Hash)\n",
    "  hash: 절대로 중복되지 않는 대응되는 값\n",
    "-키(key)를 이용하여 값을 저장 및 조회≒mapping\n",
    "- \"{키: 값}\" 사용\n",
    "- 묶여있는 데이터의 key 를 통해: 주로 데이터 조회 및 검색에 특화된 자료형\n",
    " 예: 주소록중 '성명' 부분만 검색"
   ]
  },
  {
   "cell_type": "code",
   "execution_count": null,
   "metadata": {},
   "outputs": [],
   "source": [
    "# + 튜플\n",
    "#     - 리스트와 거의 유사\n",
    "#     - \"()\" 사용 (list는 대괄호)\n",
    "#     - 변경 불가 (집합자료형 중 유일하게) = 읽기 전용\n",
    "#     - 리스트보다 속도가 빠르다"
   ]
  },
  {
   "cell_type": "code",
   "execution_count": null,
   "metadata": {},
   "outputs": [],
   "source": [
    "dict (dictionary)\n",
    "\t대응관계를 나타내는 자료형, 연관배열(Associative array), 해시(Hash)\n",
    "\t순서가 없음 (list, tuple과 달리 순차적이지 않음), \"index\" 활용불가\n",
    "\t키(key)를 이용하여 값을 저장 및 조회\n",
    "\t\"{키: 값}\" 사용"
   ]
  }
 ],
 "metadata": {
  "kernelspec": {
   "display_name": "Python 3",
   "language": "python",
   "name": "python3"
  },
  "language_info": {
   "codemirror_mode": {
    "name": "ipython",
    "version": 3
   },
   "file_extension": ".py",
   "mimetype": "text/x-python",
   "name": "python",
   "nbconvert_exporter": "python",
   "pygments_lexer": "ipython3",
   "version": "3.7.3"
  }
 },
 "nbformat": 4,
 "nbformat_minor": 2
}
